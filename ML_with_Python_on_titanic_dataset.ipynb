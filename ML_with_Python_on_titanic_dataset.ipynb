{
  "cells": [
    {
      "cell_type": "markdown",
      "metadata": {
        "id": "view-in-github",
        "colab_type": "text"
      },
      "source": [
        "<a href=\"https://colab.research.google.com/github/eaedk/titanic/blob/main/ML_with_Python_on_titanic_dataset.ipynb\" target=\"_parent\"><img src=\"https://colab.research.google.com/assets/colab-badge.svg\" alt=\"Open In Colab\"/></a>"
      ]
    },
    {
      "cell_type": "markdown",
      "id": "e5e6bb0c",
      "metadata": {
        "papermill": {
          "duration": 0.011715,
          "end_time": "2022-07-09T20:12:22.598463",
          "exception": false,
          "start_time": "2022-07-09T20:12:22.586748",
          "status": "completed"
        },
        "tags": [],
        "id": "e5e6bb0c"
      },
      "source": [
        "<center><img src=\"https://cdn.shopify.com/s/files/1/0616/1606/2711/products/product-image-831446541_1024x1024_d944d4e8-7ca6-4cbc-b7d7-23549e9d6b79_1024x1024.jpg?v=1639755401\" alt=\"drawing\" width=\"300\"/></center>\n",
        "\n",
        "\n",
        "\n"
      ]
    },
    {
      "cell_type": "markdown",
      "id": "ae6502ae",
      "metadata": {
        "papermill": {
          "duration": 0.010274,
          "end_time": "2022-07-09T20:12:22.619525",
          "exception": false,
          "start_time": "2022-07-09T20:12:22.609251",
          "status": "completed"
        },
        "tags": [],
        "id": "ae6502ae"
      },
      "source": [
        "### Bonjour! 👋\n",
        "<p style=\"font-size:16px;\">Il s'agit d'un didacticiel adapté aux débutants qui couvre de nombreux sujets d'apprentissage automatique avec des explications utilisant l'ensemble de données Titanic. J'espère que vous apprécierez de parcourir le noutbook. Ci-dessous, vous pouvez voir ce que nous allons couvrir.<p>\n",
        "    "
      ]
    },
    {
      "cell_type": "code",
      "source": [
        "!pip -q install gdown"
      ],
      "metadata": {
        "id": "GSAocpdT6E3e"
      },
      "id": "GSAocpdT6E3e",
      "execution_count": null,
      "outputs": []
    },
    {
      "cell_type": "code",
      "source": [
        "# Dataset : https://drive.google.com/file/d/1d0WVixkx_FQ3TCVglgsSi5GlxoBvXCDG/\n",
        "file_id = '1d0WVixkx_FQ3TCVglgsSi5GlxoBvXCDG' # filename: titanic.zip\n",
        "!gdown --id $file_id \n",
        "\n",
        "!unzip -oq titanic.zip"
      ],
      "metadata": {
        "colab": {
          "base_uri": "https://localhost:8080/"
        },
        "id": "nkr1A5Mu6MnL",
        "outputId": "dd3c0e0d-89ab-4dd7-db50-fa8c1549daf4"
      },
      "id": "nkr1A5Mu6MnL",
      "execution_count": null,
      "outputs": [
        {
          "output_type": "stream",
          "name": "stdout",
          "text": [
            "/usr/local/lib/python3.7/dist-packages/gdown/cli.py:131: FutureWarning: Option `--id` was deprecated in version 4.3.1 and will be removed in 5.0. You don't need to pass it anymore to use a file ID.\n",
            "  category=FutureWarning,\n",
            "Downloading...\n",
            "From: https://drive.google.com/uc?id=1d0WVixkx_FQ3TCVglgsSi5GlxoBvXCDG\n",
            "To: /content/titanic.zip\n",
            "100% 34.9k/34.9k [00:00<00:00, 27.2MB/s]\n"
          ]
        }
      ]
    },
    {
      "cell_type": "markdown",
      "id": "e622c825",
      "metadata": {
        "papermill": {
          "duration": 0.010267,
          "end_time": "2022-07-09T20:12:22.640248",
          "exception": false,
          "start_time": "2022-07-09T20:12:22.629981",
          "status": "completed"
        },
        "tags": [],
        "id": "e622c825"
      },
      "source": [
        "## Menu:\n",
        "<p style=\"font-size:16px;\"> <a href=\"#anchor-name\">1. Exploratory data analysis</a><br>\n",
        "<a href=\"#anchor-name2\">2. Feature Engineering & Cleaning </a><br>\n",
        "<a href=\"#anchor-name3\">3. k-Nearest Neighbors </a><br>\n",
        "<a href=\"#anchor-name4\">4. LogisticRegression </a><br>\n",
        "<a href=\"#anchor-name5\">5. SVC - Support Vector Classifier </a><br>\n",
        "<a href=\"#anchor-name6\">6. Ensemble Learning Methods </a><br>\n",
        "<a href=\"#anchor-name7\">7. Summary </a><br>\n",
        "</p>\n"
      ]
    },
    {
      "cell_type": "markdown",
      "id": "2bad2609",
      "metadata": {
        "papermill": {
          "duration": 0.011085,
          "end_time": "2022-07-09T20:12:22.661879",
          "exception": false,
          "start_time": "2022-07-09T20:12:22.650794",
          "status": "completed"
        },
        "tags": [],
        "id": "2bad2609"
      },
      "source": [
        "# <a id=\"anchor-name\">Exploratory data analysis:</a>"
      ]
    },
    {
      "cell_type": "code",
      "execution_count": null,
      "id": "f919d45e",
      "metadata": {
        "execution": {
          "iopub.execute_input": "2022-07-09T20:12:22.686160Z",
          "iopub.status.busy": "2022-07-09T20:12:22.684879Z",
          "iopub.status.idle": "2022-07-09T20:12:24.326357Z",
          "shell.execute_reply": "2022-07-09T20:12:24.325013Z"
        },
        "papermill": {
          "duration": 1.656991,
          "end_time": "2022-07-09T20:12:24.329805",
          "exception": false,
          "start_time": "2022-07-09T20:12:22.672814",
          "status": "completed"
        },
        "tags": [],
        "id": "f919d45e"
      },
      "outputs": [],
      "source": [
        "#Ici, nous importons les bibliothèques requises\n",
        "import pandas as pd\n",
        "import numpy as np\n",
        "import matplotlib.pyplot as plt\n",
        "import seaborn as sns\n",
        "from sklearn.preprocessing import StandardScaler\n",
        "from sklearn.metrics import roc_curve, accuracy_score\n",
        "from sklearn.neighbors import KNeighborsClassifier \n",
        "from sklearn.model_selection import train_test_split, GridSearchCV\n",
        "from sklearn.linear_model import LogisticRegression\n",
        "from sklearn.svm import SVC\n",
        "from sklearn.tree import DecisionTreeClassifier\n",
        "from sklearn.ensemble import VotingClassifier\n",
        "from sklearn.ensemble import BaggingClassifier\n",
        "from sklearn.ensemble import AdaBoostClassifier\n",
        "from sklearn.ensemble import RandomForestClassifier\n",
        "import xgboost as xgb"
      ]
    },
    {
      "cell_type": "markdown",
      "id": "5dca2e52",
      "metadata": {
        "papermill": {
          "duration": 0.014301,
          "end_time": "2022-07-09T20:12:24.359105",
          "exception": false,
          "start_time": "2022-07-09T20:12:24.344804",
          "status": "completed"
        },
        "tags": [],
        "id": "5dca2e52"
      },
      "source": [
        "#### Habituellement, nous devrions toujours avoir une idée du type de données avec lesquelles nous travaillons, c'est donc une bonne habitude de parcourir certaines lignes de données et de vérifier les colonnes depuis le début. Vous aurez une idée des données. Voici quelques définitions de colonne:\n",
        "<p style=\"font-size:14px;\">\n",
        "Survived - Statut de survie (0 = Non ; 1 = Oui) <br>\n",
        "Pclass   - Classe du passager (1 = 1er ; 2 = 2e ; 3 = 3e)<br>\n",
        "SibSp    - Nombre de frères et sœurs/conjoints à bord<br>\n",
        "Parch    - Nombre de parents/enfants à bord<br>\n",
        "Ticket   - Numéro de billet<br>\n",
        "Fare     - Tarif du billet<br>\n",
        "Cabin    - Cabine du passager<br>\n",
        "Cmbarked - Port d'Embarquation (C = Cherbourg; Q = Queenstown; S = Southampton)<br>\n",
        "</p>\n"
      ]
    },
    {
      "cell_type": "code",
      "execution_count": null,
      "id": "9edb5761",
      "metadata": {
        "execution": {
          "iopub.execute_input": "2022-07-09T20:12:24.385054Z",
          "iopub.status.busy": "2022-07-09T20:12:24.384016Z",
          "iopub.status.idle": "2022-07-09T20:12:24.436967Z",
          "shell.execute_reply": "2022-07-09T20:12:24.435929Z"
        },
        "papermill": {
          "duration": 0.069596,
          "end_time": "2022-07-09T20:12:24.441757",
          "exception": false,
          "start_time": "2022-07-09T20:12:24.372161",
          "status": "completed"
        },
        "tags": [],
        "id": "9edb5761",
        "outputId": "74e29b56-10c9-47bb-f448-8a90d20885a4",
        "colab": {
          "base_uri": "https://localhost:8080/",
          "height": 222
        }
      },
      "outputs": [
        {
          "output_type": "execute_result",
          "data": {
            "text/plain": [
              "   PassengerId  Survived  Pclass  \\\n",
              "0            1         0       3   \n",
              "1            2         1       1   \n",
              "2            3         1       3   \n",
              "\n",
              "                                                Name     Sex   Age  SibSp  \\\n",
              "0                            Braund, Mr. Owen Harris    male  22.0      1   \n",
              "1  Cumings, Mrs. John Bradley (Florence Briggs Th...  female  38.0      1   \n",
              "2                             Heikkinen, Miss. Laina  female  26.0      0   \n",
              "\n",
              "   Parch            Ticket     Fare Cabin Embarked  \n",
              "0      0         A/5 21171   7.2500   NaN        S  \n",
              "1      0          PC 17599  71.2833   C85        C  \n",
              "2      0  STON/O2. 3101282   7.9250   NaN        S  "
            ],
            "text/html": [
              "\n",
              "  <div id=\"df-77f3671b-85ed-4797-835a-8c6bb7eda481\">\n",
              "    <div class=\"colab-df-container\">\n",
              "      <div>\n",
              "<style scoped>\n",
              "    .dataframe tbody tr th:only-of-type {\n",
              "        vertical-align: middle;\n",
              "    }\n",
              "\n",
              "    .dataframe tbody tr th {\n",
              "        vertical-align: top;\n",
              "    }\n",
              "\n",
              "    .dataframe thead th {\n",
              "        text-align: right;\n",
              "    }\n",
              "</style>\n",
              "<table border=\"1\" class=\"dataframe\">\n",
              "  <thead>\n",
              "    <tr style=\"text-align: right;\">\n",
              "      <th></th>\n",
              "      <th>PassengerId</th>\n",
              "      <th>Survived</th>\n",
              "      <th>Pclass</th>\n",
              "      <th>Name</th>\n",
              "      <th>Sex</th>\n",
              "      <th>Age</th>\n",
              "      <th>SibSp</th>\n",
              "      <th>Parch</th>\n",
              "      <th>Ticket</th>\n",
              "      <th>Fare</th>\n",
              "      <th>Cabin</th>\n",
              "      <th>Embarked</th>\n",
              "    </tr>\n",
              "  </thead>\n",
              "  <tbody>\n",
              "    <tr>\n",
              "      <th>0</th>\n",
              "      <td>1</td>\n",
              "      <td>0</td>\n",
              "      <td>3</td>\n",
              "      <td>Braund, Mr. Owen Harris</td>\n",
              "      <td>male</td>\n",
              "      <td>22.0</td>\n",
              "      <td>1</td>\n",
              "      <td>0</td>\n",
              "      <td>A/5 21171</td>\n",
              "      <td>7.2500</td>\n",
              "      <td>NaN</td>\n",
              "      <td>S</td>\n",
              "    </tr>\n",
              "    <tr>\n",
              "      <th>1</th>\n",
              "      <td>2</td>\n",
              "      <td>1</td>\n",
              "      <td>1</td>\n",
              "      <td>Cumings, Mrs. John Bradley (Florence Briggs Th...</td>\n",
              "      <td>female</td>\n",
              "      <td>38.0</td>\n",
              "      <td>1</td>\n",
              "      <td>0</td>\n",
              "      <td>PC 17599</td>\n",
              "      <td>71.2833</td>\n",
              "      <td>C85</td>\n",
              "      <td>C</td>\n",
              "    </tr>\n",
              "    <tr>\n",
              "      <th>2</th>\n",
              "      <td>3</td>\n",
              "      <td>1</td>\n",
              "      <td>3</td>\n",
              "      <td>Heikkinen, Miss. Laina</td>\n",
              "      <td>female</td>\n",
              "      <td>26.0</td>\n",
              "      <td>0</td>\n",
              "      <td>0</td>\n",
              "      <td>STON/O2. 3101282</td>\n",
              "      <td>7.9250</td>\n",
              "      <td>NaN</td>\n",
              "      <td>S</td>\n",
              "    </tr>\n",
              "  </tbody>\n",
              "</table>\n",
              "</div>\n",
              "      <button class=\"colab-df-convert\" onclick=\"convertToInteractive('df-77f3671b-85ed-4797-835a-8c6bb7eda481')\"\n",
              "              title=\"Convert this dataframe to an interactive table.\"\n",
              "              style=\"display:none;\">\n",
              "        \n",
              "  <svg xmlns=\"http://www.w3.org/2000/svg\" height=\"24px\"viewBox=\"0 0 24 24\"\n",
              "       width=\"24px\">\n",
              "    <path d=\"M0 0h24v24H0V0z\" fill=\"none\"/>\n",
              "    <path d=\"M18.56 5.44l.94 2.06.94-2.06 2.06-.94-2.06-.94-.94-2.06-.94 2.06-2.06.94zm-11 1L8.5 8.5l.94-2.06 2.06-.94-2.06-.94L8.5 2.5l-.94 2.06-2.06.94zm10 10l.94 2.06.94-2.06 2.06-.94-2.06-.94-.94-2.06-.94 2.06-2.06.94z\"/><path d=\"M17.41 7.96l-1.37-1.37c-.4-.4-.92-.59-1.43-.59-.52 0-1.04.2-1.43.59L10.3 9.45l-7.72 7.72c-.78.78-.78 2.05 0 2.83L4 21.41c.39.39.9.59 1.41.59.51 0 1.02-.2 1.41-.59l7.78-7.78 2.81-2.81c.8-.78.8-2.07 0-2.86zM5.41 20L4 18.59l7.72-7.72 1.47 1.35L5.41 20z\"/>\n",
              "  </svg>\n",
              "      </button>\n",
              "      \n",
              "  <style>\n",
              "    .colab-df-container {\n",
              "      display:flex;\n",
              "      flex-wrap:wrap;\n",
              "      gap: 12px;\n",
              "    }\n",
              "\n",
              "    .colab-df-convert {\n",
              "      background-color: #E8F0FE;\n",
              "      border: none;\n",
              "      border-radius: 50%;\n",
              "      cursor: pointer;\n",
              "      display: none;\n",
              "      fill: #1967D2;\n",
              "      height: 32px;\n",
              "      padding: 0 0 0 0;\n",
              "      width: 32px;\n",
              "    }\n",
              "\n",
              "    .colab-df-convert:hover {\n",
              "      background-color: #E2EBFA;\n",
              "      box-shadow: 0px 1px 2px rgba(60, 64, 67, 0.3), 0px 1px 3px 1px rgba(60, 64, 67, 0.15);\n",
              "      fill: #174EA6;\n",
              "    }\n",
              "\n",
              "    [theme=dark] .colab-df-convert {\n",
              "      background-color: #3B4455;\n",
              "      fill: #D2E3FC;\n",
              "    }\n",
              "\n",
              "    [theme=dark] .colab-df-convert:hover {\n",
              "      background-color: #434B5C;\n",
              "      box-shadow: 0px 1px 3px 1px rgba(0, 0, 0, 0.15);\n",
              "      filter: drop-shadow(0px 1px 2px rgba(0, 0, 0, 0.3));\n",
              "      fill: #FFFFFF;\n",
              "    }\n",
              "  </style>\n",
              "\n",
              "      <script>\n",
              "        const buttonEl =\n",
              "          document.querySelector('#df-77f3671b-85ed-4797-835a-8c6bb7eda481 button.colab-df-convert');\n",
              "        buttonEl.style.display =\n",
              "          google.colab.kernel.accessAllowed ? 'block' : 'none';\n",
              "\n",
              "        async function convertToInteractive(key) {\n",
              "          const element = document.querySelector('#df-77f3671b-85ed-4797-835a-8c6bb7eda481');\n",
              "          const dataTable =\n",
              "            await google.colab.kernel.invokeFunction('convertToInteractive',\n",
              "                                                     [key], {});\n",
              "          if (!dataTable) return;\n",
              "\n",
              "          const docLinkHtml = 'Like what you see? Visit the ' +\n",
              "            '<a target=\"_blank\" href=https://colab.research.google.com/notebooks/data_table.ipynb>data table notebook</a>'\n",
              "            + ' to learn more about interactive tables.';\n",
              "          element.innerHTML = '';\n",
              "          dataTable['output_type'] = 'display_data';\n",
              "          await google.colab.output.renderOutput(dataTable, element);\n",
              "          const docLink = document.createElement('div');\n",
              "          docLink.innerHTML = docLinkHtml;\n",
              "          element.appendChild(docLink);\n",
              "        }\n",
              "      </script>\n",
              "    </div>\n",
              "  </div>\n",
              "  "
            ]
          },
          "metadata": {},
          "execution_count": 4
        }
      ],
      "source": [
        "#Chargez les données d'entraînement et afficher les 3 premières lignes\n",
        "train_df = pd.read_csv('train.csv')\n",
        "test_df = pd.read_csv('test.csv')\n",
        "\n",
        "#Pour sauvegarer les predictions finales\n",
        "passenger_id = test_df['PassengerId']\n",
        "\n",
        "#Affichage des 3 premières lignes des données d'entraînement \n",
        "train_df.head(3)"
      ]
    },
    {
      "cell_type": "code",
      "execution_count": null,
      "id": "4ba5b570",
      "metadata": {
        "execution": {
          "iopub.execute_input": "2022-07-09T20:12:24.470816Z",
          "iopub.status.busy": "2022-07-09T20:12:24.469613Z",
          "iopub.status.idle": "2022-07-09T20:12:24.497566Z",
          "shell.execute_reply": "2022-07-09T20:12:24.495768Z"
        },
        "papermill": {
          "duration": 0.044002,
          "end_time": "2022-07-09T20:12:24.500227",
          "exception": false,
          "start_time": "2022-07-09T20:12:24.456225",
          "status": "completed"
        },
        "tags": [],
        "id": "4ba5b570",
        "outputId": "319e8232-5a83-4425-b802-662c910272ae",
        "colab": {
          "base_uri": "https://localhost:8080/"
        }
      },
      "outputs": [
        {
          "output_type": "stream",
          "name": "stdout",
          "text": [
            "<class 'pandas.core.frame.DataFrame'>\n",
            "RangeIndex: 891 entries, 0 to 890\n",
            "Data columns (total 12 columns):\n",
            " #   Column       Non-Null Count  Dtype  \n",
            "---  ------       --------------  -----  \n",
            " 0   PassengerId  891 non-null    int64  \n",
            " 1   Survived     891 non-null    int64  \n",
            " 2   Pclass       891 non-null    int64  \n",
            " 3   Name         891 non-null    object \n",
            " 4   Sex          891 non-null    object \n",
            " 5   Age          714 non-null    float64\n",
            " 6   SibSp        891 non-null    int64  \n",
            " 7   Parch        891 non-null    int64  \n",
            " 8   Ticket       891 non-null    object \n",
            " 9   Fare         891 non-null    float64\n",
            " 10  Cabin        204 non-null    object \n",
            " 11  Embarked     889 non-null    object \n",
            "dtypes: float64(2), int64(5), object(5)\n",
            "memory usage: 83.7+ KB\n"
          ]
        }
      ],
      "source": [
        "#Informations générale sur les données d'entraînement\n",
        "train_df.info()"
      ]
    },
    {
      "cell_type": "code",
      "execution_count": null,
      "id": "6299e417",
      "metadata": {
        "execution": {
          "iopub.execute_input": "2022-07-09T20:12:24.525273Z",
          "iopub.status.busy": "2022-07-09T20:12:24.524376Z",
          "iopub.status.idle": "2022-07-09T20:12:24.536698Z",
          "shell.execute_reply": "2022-07-09T20:12:24.534998Z"
        },
        "papermill": {
          "duration": 0.028506,
          "end_time": "2022-07-09T20:12:24.539890",
          "exception": false,
          "start_time": "2022-07-09T20:12:24.511384",
          "status": "completed"
        },
        "tags": [],
        "id": "6299e417",
        "outputId": "44695e19-b5f9-40e1-a0fa-424ee84c0cf3",
        "colab": {
          "base_uri": "https://localhost:8080/"
        }
      },
      "outputs": [
        {
          "output_type": "stream",
          "name": "stdout",
          "text": [
            "Colonnes avec des valeurs manquantes dans les données d'entraînement : ['Age', 'Cabin', 'Embarked']\n",
            "Colonnes avec des manquantes dans les données de test :['Age', 'Fare', 'Cabin']\n"
          ]
        }
      ],
      "source": [
        "#Ici, nous trouvons les colonne qui comportent des valeurs manquantes :\n",
        "dirty_col_train, dirty_col_test = train_df.columns[train_df.isnull().any()], test_df.columns[test_df.isnull().any()]\n",
        "print(\"Colonnes avec des valeurs manquantes dans les données d'entraînement : {}\\nColonnes avec des manquantes dans les données de test :{}\".format(list(dirty_col_train),list(dirty_col_test)))"
      ]
    },
    {
      "cell_type": "code",
      "execution_count": null,
      "id": "00fc7a09",
      "metadata": {
        "execution": {
          "iopub.execute_input": "2022-07-09T20:12:24.564410Z",
          "iopub.status.busy": "2022-07-09T20:12:24.563519Z",
          "iopub.status.idle": "2022-07-09T20:12:24.577323Z",
          "shell.execute_reply": "2022-07-09T20:12:24.576313Z"
        },
        "papermill": {
          "duration": 0.028516,
          "end_time": "2022-07-09T20:12:24.579592",
          "exception": false,
          "start_time": "2022-07-09T20:12:24.551076",
          "status": "completed"
        },
        "tags": [],
        "id": "00fc7a09",
        "outputId": "c5167111-7280-4790-80e1-46122303f0ea",
        "colab": {
          "base_uri": "https://localhost:8080/"
        }
      },
      "outputs": [
        {
          "output_type": "execute_result",
          "data": {
            "text/plain": [
              "Cabin       77.104377\n",
              "Age         19.865320\n",
              "Embarked     0.224467\n",
              "dtype: float64"
            ]
          },
          "metadata": {},
          "execution_count": 7
        }
      ],
      "source": [
        "# Combien de % de chaque colonne manque dans les données d'entraînement\n",
        "train_df[dirty_col_train].isna().sum().sort_values(ascending=False)/train_df.shape[0] * 100"
      ]
    },
    {
      "cell_type": "code",
      "execution_count": null,
      "id": "74554253",
      "metadata": {
        "execution": {
          "iopub.execute_input": "2022-07-09T20:12:24.603979Z",
          "iopub.status.busy": "2022-07-09T20:12:24.603483Z",
          "iopub.status.idle": "2022-07-09T20:12:24.615538Z",
          "shell.execute_reply": "2022-07-09T20:12:24.614516Z"
        },
        "papermill": {
          "duration": 0.027097,
          "end_time": "2022-07-09T20:12:24.617814",
          "exception": false,
          "start_time": "2022-07-09T20:12:24.590717",
          "status": "completed"
        },
        "tags": [],
        "id": "74554253",
        "outputId": "ed4fdbbf-a687-4ea9-a3b2-0149728224f0",
        "colab": {
          "base_uri": "https://localhost:8080/"
        }
      },
      "outputs": [
        {
          "output_type": "execute_result",
          "data": {
            "text/plain": [
              "Cabin    78.229665\n",
              "Age      20.574163\n",
              "Fare      0.239234\n",
              "dtype: float64"
            ]
          },
          "metadata": {},
          "execution_count": 8
        }
      ],
      "source": [
        "# Combien de % de chaque colonne manque dans les données de test\n",
        "test_df[dirty_col_test].isna().sum().sort_values(ascending=False)/test_df.shape[0] * 100"
      ]
    },
    {
      "cell_type": "markdown",
      "id": "402683f0",
      "metadata": {
        "papermill": {
          "duration": 0.011528,
          "end_time": "2022-07-09T20:12:24.641061",
          "exception": false,
          "start_time": "2022-07-09T20:12:24.629533",
          "status": "completed"
        },
        "tags": [],
        "id": "402683f0"
      },
      "source": [
        "<p style=\"font-size:16px;\"> \n",
        "D'après ce qui précède, il est clair qu'il manque des valeurs dans les colonnes : <b>Cabine </b>, <b>Âge </b>, <b>Tarif </b> et <b>Embarqué </b>. Ne vous inquiétez pas, nous nous en occuperons dans la section d'ingénierie des fonctionnalités. D'AILLEURS,\n",
        "nous pouvons également utiliser seaborn pour créer une carte thermique afin de voir visuellement ces valeurs manquantes :\n",
        "</p>"
      ]
    },
    {
      "cell_type": "code",
      "execution_count": null,
      "id": "3bb2ada0",
      "metadata": {
        "execution": {
          "iopub.execute_input": "2022-07-09T20:12:24.666654Z",
          "iopub.status.busy": "2022-07-09T20:12:24.665786Z",
          "iopub.status.idle": "2022-07-09T20:12:24.937571Z",
          "shell.execute_reply": "2022-07-09T20:12:24.936761Z"
        },
        "papermill": {
          "duration": 0.287327,
          "end_time": "2022-07-09T20:12:24.940139",
          "exception": false,
          "start_time": "2022-07-09T20:12:24.652812",
          "status": "completed"
        },
        "tags": [],
        "id": "3bb2ada0",
        "outputId": "34002c2f-c05f-4662-9707-f97abba8d00d",
        "colab": {
          "base_uri": "https://localhost:8080/",
          "height": 546
        }
      },
      "outputs": [
        {
          "output_type": "display_data",
          "data": {
            "text/plain": [
              "<Figure size 1008x576 with 1 Axes>"
            ],
            "image/png": "[encoded data removed]"
          },
          "metadata": {}
        }
      ],
      "source": [
        "sns.set_style('whitegrid',{'axes.grid' : False})\n",
        "#représentation pour les données manquantes de l'ensemble d'entraînement\n",
        "plt.figure(figsize=(14,8))\n",
        "sns.set(font_scale=1.3)\n",
        "g = sns.heatmap(train_df.isnull(),yticklabels=False,cbar=False,cmap='inferno')\n",
        "g.set_xticklabels(g.get_xticklabels(), rotation=45, horizontalalignment='right')\n",
        "plt.show()"
      ]
    },
    {
      "cell_type": "code",
      "execution_count": null,
      "id": "399f4fa4",
      "metadata": {
        "execution": {
          "iopub.execute_input": "2022-07-09T20:12:24.973730Z",
          "iopub.status.busy": "2022-07-09T20:12:24.972556Z",
          "iopub.status.idle": "2022-07-09T20:12:25.498873Z",
          "shell.execute_reply": "2022-07-09T20:12:25.497872Z"
        },
        "papermill": {
          "duration": 0.542588,
          "end_time": "2022-07-09T20:12:25.501649",
          "exception": false,
          "start_time": "2022-07-09T20:12:24.959061",
          "status": "completed"
        },
        "tags": [],
        "id": "399f4fa4",
        "outputId": "91f49de0-2ded-4eac-b25b-84c680ba4526",
        "colab": {
          "base_uri": "https://localhost:8080/",
          "height": 717
        }
      },
      "outputs": [
        {
          "output_type": "display_data",
          "data": {
            "text/plain": [
              "<Figure size 1008x720 with 4 Axes>"
            ],
            "image/png": "[encoded data removed]"
          },
          "metadata": {}
        }
      ],
      "source": [
        "#Analyse de survie par différentes métriques\n",
        "fig, axs = plt.subplots(ncols=2,nrows=2, figsize=(14,10), sharex=True)\n",
        "sns.countplot(x='Survived',data=train_df,palette='inferno',ax=axs[0,0])\n",
        "sns.countplot(x='Survived',hue='Sex',data=train_df,palette='inferno',ax=axs[0,1])\n",
        "sns.countplot(x='Survived',hue='Pclass',data=train_df,palette='inferno',ax=axs[1,0])\n",
        "sns.countplot(x='Survived',hue='Embarked',data=train_df,palette='inferno',ax=axs[1,1])\n",
        "fig.tight_layout()\n",
        "plt.show()"
      ]
    },
    {
      "cell_type": "markdown",
      "id": "3be5b83e",
      "metadata": {
        "papermill": {
          "duration": 0.01223,
          "end_time": "2022-07-09T20:12:25.526683",
          "exception": false,
          "start_time": "2022-07-09T20:12:25.514453",
          "status": "completed"
        },
        "tags": [],
        "id": "3be5b83e"
      },
      "source": [
        "<p style=\"font-size:16px;\"> \n",
        "Le premier chiffre nous montre que la plupart des gens n'ont pas pu survivre à la catastrophe. D'après d'autres parcelles, nous voyons que le taux de survie était très élevé pour les femmes alors que c'était tout le contraire pour les hommes du tableau. En plus de cela, la plupart de ceux qui sont morts étaient des passagers de 3e classe. N'hésitez pas à partager plus d'informations à partir des graphiques ci-dessous dans les commentaires !\n",
        "</p>"
      ]
    },
    {
      "cell_type": "code",
      "execution_count": null,
      "id": "c4cde146",
      "metadata": {
        "execution": {
          "iopub.execute_input": "2022-07-09T20:12:25.554664Z",
          "iopub.status.busy": "2022-07-09T20:12:25.553489Z",
          "iopub.status.idle": "2022-07-09T20:12:25.825229Z",
          "shell.execute_reply": "2022-07-09T20:12:25.824453Z"
        },
        "papermill": {
          "duration": 0.287928,
          "end_time": "2022-07-09T20:12:25.827338",
          "exception": false,
          "start_time": "2022-07-09T20:12:25.539410",
          "status": "completed"
        },
        "tags": [],
        "id": "c4cde146",
        "outputId": "ef8bf38c-cd24-4258-8de4-ab4a7e398661",
        "colab": {
          "base_uri": "https://localhost:8080/",
          "height": 417
        }
      },
      "outputs": [
        {
          "output_type": "execute_result",
          "data": {
            "text/plain": [
              "<matplotlib.axes._subplots.AxesSubplot at 0x7fe415a6fb90>"
            ]
          },
          "metadata": {},
          "execution_count": 11
        },
        {
          "output_type": "display_data",
          "data": {
            "text/plain": [
              "<Figure size 720x432 with 1 Axes>"
            ],
            "image/png": "[encoded data removed]"
          },
          "metadata": {}
        }
      ],
      "source": [
        "#Histogramme des âges des passagers.\n",
        "plt.figure(figsize=(10,6))\n",
        "sns.histplot(train_df['Age'].dropna(),bins=30, palette='inferno', color='darkred', alpha=0.5, kde=True)"
      ]
    },
    {
      "cell_type": "markdown",
      "id": "0af16892",
      "metadata": {
        "papermill": {
          "duration": 0.012746,
          "end_time": "2022-07-09T20:12:25.853153",
          "exception": false,
          "start_time": "2022-07-09T20:12:25.840407",
          "status": "completed"
        },
        "tags": [],
        "id": "0af16892"
      },
      "source": [
        "<p style=\"font-size:16px;\"> \n",
        "Nous voyons que la plupart des passagers avaient entre 20 et 30 ans.\n",
        "</p>"
      ]
    },
    {
      "cell_type": "code",
      "execution_count": null,
      "id": "d5fe2959",
      "metadata": {
        "execution": {
          "iopub.execute_input": "2022-07-09T20:12:25.880827Z",
          "iopub.status.busy": "2022-07-09T20:12:25.880215Z",
          "iopub.status.idle": "2022-07-09T20:12:26.135457Z",
          "shell.execute_reply": "2022-07-09T20:12:26.134493Z"
        },
        "papermill": {
          "duration": 0.271978,
          "end_time": "2022-07-09T20:12:26.137977",
          "exception": false,
          "start_time": "2022-07-09T20:12:25.865999",
          "status": "completed"
        },
        "tags": [],
        "id": "d5fe2959",
        "outputId": "0d6587e5-c42a-4f83-b463-17e3d0ab24c2",
        "colab": {
          "base_uri": "https://localhost:8080/",
          "height": 419
        }
      },
      "outputs": [
        {
          "output_type": "execute_result",
          "data": {
            "text/plain": [
              "<matplotlib.axes._subplots.AxesSubplot at 0x7fe4158f7590>"
            ]
          },
          "metadata": {},
          "execution_count": 12
        },
        {
          "output_type": "display_data",
          "data": {
            "text/plain": [
              "<Figure size 720x432 with 1 Axes>"
            ],
            "image/png": "[encoded data removed]"
          },
          "metadata": {}
        }
      ],
      "source": [
        "#Histogramme du prix du billet des passagers.\n",
        "plt.figure(figsize=(10,6))\n",
        "sns.histplot(train_df['Fare'],bins=50, palette='inferno', color='darkred', alpha=0.5)"
      ]
    },
    {
      "cell_type": "markdown",
      "id": "2e1fe248",
      "metadata": {
        "papermill": {
          "duration": 0.013279,
          "end_time": "2022-07-09T20:12:26.165008",
          "exception": false,
          "start_time": "2022-07-09T20:12:26.151729",
          "status": "completed"
        },
        "tags": [],
        "id": "2e1fe248"
      },
      "source": [
        "<p style=\"font-size:16px;\"> \n",
        "La plupart des gens ont payé moins de 50 &dollar; pour leurs billets, étonnamment, il y a des cas particuliers comme celui qui a payé plus de 500 &dollar; . Voyons qui est cette personne et vérifions si elle a survécu !\n",
        "</p>"
      ]
    },
    {
      "cell_type": "code",
      "execution_count": null,
      "id": "b1b30fdc",
      "metadata": {
        "execution": {
          "iopub.execute_input": "2022-07-09T20:12:26.193814Z",
          "iopub.status.busy": "2022-07-09T20:12:26.193155Z",
          "iopub.status.idle": "2022-07-09T20:12:26.207740Z",
          "shell.execute_reply": "2022-07-09T20:12:26.206906Z"
        },
        "papermill": {
          "duration": 0.031243,
          "end_time": "2022-07-09T20:12:26.209640",
          "exception": false,
          "start_time": "2022-07-09T20:12:26.178397",
          "status": "completed"
        },
        "tags": [],
        "id": "b1b30fdc",
        "outputId": "b3fc4d44-bc47-40cf-fc9f-452ac8d33cc3",
        "colab": {
          "base_uri": "https://localhost:8080/",
          "height": 143
        }
      },
      "outputs": [
        {
          "output_type": "execute_result",
          "data": {
            "text/plain": [
              "     PassengerId  Survived  Pclass                                Name  \\\n",
              "258          259         1       1                    Ward, Miss. Anna   \n",
              "679          680         1       1  Cardeza, Mr. Thomas Drake Martinez   \n",
              "737          738         1       1              Lesurer, Mr. Gustave J   \n",
              "\n",
              "        Sex   Age  SibSp  Parch    Ticket      Fare        Cabin Embarked  \n",
              "258  female  35.0      0      0  PC 17755  512.3292          NaN        C  \n",
              "679    male  36.0      0      1  PC 17755  512.3292  B51 B53 B55        C  \n",
              "737    male  35.0      0      0  PC 17755  512.3292         B101        C  "
            ],
            "text/html": [
              "\n",
              "  <div id=\"df-757f5886-1e3e-44ab-8868-c1f74585ee59\">\n",
              "    <div class=\"colab-df-container\">\n",
              "      <div>\n",
              "<style scoped>\n",
              "    .dataframe tbody tr th:only-of-type {\n",
              "        vertical-align: middle;\n",
              "    }\n",
              "\n",
              "    .dataframe tbody tr th {\n",
              "        vertical-align: top;\n",
              "    }\n",
              "\n",
              "    .dataframe thead th {\n",
              "        text-align: right;\n",
              "    }\n",
              "</style>\n",
              "<table border=\"1\" class=\"dataframe\">\n",
              "  <thead>\n",
              "    <tr style=\"text-align: right;\">\n",
              "      <th></th>\n",
              "      <th>PassengerId</th>\n",
              "      <th>Survived</th>\n",
              "      <th>Pclass</th>\n",
              "      <th>Name</th>\n",
              "      <th>Sex</th>\n",
              "      <th>Age</th>\n",
              "      <th>SibSp</th>\n",
              "      <th>Parch</th>\n",
              "      <th>Ticket</th>\n",
              "      <th>Fare</th>\n",
              "      <th>Cabin</th>\n",
              "      <th>Embarked</th>\n",
              "    </tr>\n",
              "  </thead>\n",
              "  <tbody>\n",
              "    <tr>\n",
              "      <th>258</th>\n",
              "      <td>259</td>\n",
              "      <td>1</td>\n",
              "      <td>1</td>\n",
              "      <td>Ward, Miss. Anna</td>\n",
              "      <td>female</td>\n",
              "      <td>35.0</td>\n",
              "      <td>0</td>\n",
              "      <td>0</td>\n",
              "      <td>PC 17755</td>\n",
              "      <td>512.3292</td>\n",
              "      <td>NaN</td>\n",
              "      <td>C</td>\n",
              "    </tr>\n",
              "    <tr>\n",
              "      <th>679</th>\n",
              "      <td>680</td>\n",
              "      <td>1</td>\n",
              "      <td>1</td>\n",
              "      <td>Cardeza, Mr. Thomas Drake Martinez</td>\n",
              "      <td>male</td>\n",
              "      <td>36.0</td>\n",
              "      <td>0</td>\n",
              "      <td>1</td>\n",
              "      <td>PC 17755</td>\n",
              "      <td>512.3292</td>\n",
              "      <td>B51 B53 B55</td>\n",
              "      <td>C</td>\n",
              "    </tr>\n",
              "    <tr>\n",
              "      <th>737</th>\n",
              "      <td>738</td>\n",
              "      <td>1</td>\n",
              "      <td>1</td>\n",
              "      <td>Lesurer, Mr. Gustave J</td>\n",
              "      <td>male</td>\n",
              "      <td>35.0</td>\n",
              "      <td>0</td>\n",
              "      <td>0</td>\n",
              "      <td>PC 17755</td>\n",
              "      <td>512.3292</td>\n",
              "      <td>B101</td>\n",
              "      <td>C</td>\n",
              "    </tr>\n",
              "  </tbody>\n",
              "</table>\n",
              "</div>\n",
              "      <button class=\"colab-df-convert\" onclick=\"convertToInteractive('df-757f5886-1e3e-44ab-8868-c1f74585ee59')\"\n",
              "              title=\"Convert this dataframe to an interactive table.\"\n",
              "              style=\"display:none;\">\n",
              "        \n",
              "  <svg xmlns=\"http://www.w3.org/2000/svg\" height=\"24px\"viewBox=\"0 0 24 24\"\n",
              "       width=\"24px\">\n",
              "    <path d=\"M0 0h24v24H0V0z\" fill=\"none\"/>\n",
              "    <path d=\"M18.56 5.44l.94 2.06.94-2.06 2.06-.94-2.06-.94-.94-2.06-.94 2.06-2.06.94zm-11 1L8.5 8.5l.94-2.06 2.06-.94-2.06-.94L8.5 2.5l-.94 2.06-2.06.94zm10 10l.94 2.06.94-2.06 2.06-.94-2.06-.94-.94-2.06-.94 2.06-2.06.94z\"/><path d=\"M17.41 7.96l-1.37-1.37c-.4-.4-.92-.59-1.43-.59-.52 0-1.04.2-1.43.59L10.3 9.45l-7.72 7.72c-.78.78-.78 2.05 0 2.83L4 21.41c.39.39.9.59 1.41.59.51 0 1.02-.2 1.41-.59l7.78-7.78 2.81-2.81c.8-.78.8-2.07 0-2.86zM5.41 20L4 18.59l7.72-7.72 1.47 1.35L5.41 20z\"/>\n",
              "  </svg>\n",
              "      </button>\n",
              "      \n",
              "  <style>\n",
              "    .colab-df-container {\n",
              "      display:flex;\n",
              "      flex-wrap:wrap;\n",
              "      gap: 12px;\n",
              "    }\n",
              "\n",
              "    .colab-df-convert {\n",
              "      background-color: #E8F0FE;\n",
              "      border: none;\n",
              "      border-radius: 50%;\n",
              "      cursor: pointer;\n",
              "      display: none;\n",
              "      fill: #1967D2;\n",
              "      height: 32px;\n",
              "      padding: 0 0 0 0;\n",
              "      width: 32px;\n",
              "    }\n",
              "\n",
              "    .colab-df-convert:hover {\n",
              "      background-color: #E2EBFA;\n",
              "      box-shadow: 0px 1px 2px rgba(60, 64, 67, 0.3), 0px 1px 3px 1px rgba(60, 64, 67, 0.15);\n",
              "      fill: #174EA6;\n",
              "    }\n",
              "\n",
              "    [theme=dark] .colab-df-convert {\n",
              "      background-color: #3B4455;\n",
              "      fill: #D2E3FC;\n",
              "    }\n",
              "\n",
              "    [theme=dark] .colab-df-convert:hover {\n",
              "      background-color: #434B5C;\n",
              "      box-shadow: 0px 1px 3px 1px rgba(0, 0, 0, 0.15);\n",
              "      filter: drop-shadow(0px 1px 2px rgba(0, 0, 0, 0.3));\n",
              "      fill: #FFFFFF;\n",
              "    }\n",
              "  </style>\n",
              "\n",
              "      <script>\n",
              "        const buttonEl =\n",
              "          document.querySelector('#df-757f5886-1e3e-44ab-8868-c1f74585ee59 button.colab-df-convert');\n",
              "        buttonEl.style.display =\n",
              "          google.colab.kernel.accessAllowed ? 'block' : 'none';\n",
              "\n",
              "        async function convertToInteractive(key) {\n",
              "          const element = document.querySelector('#df-757f5886-1e3e-44ab-8868-c1f74585ee59');\n",
              "          const dataTable =\n",
              "            await google.colab.kernel.invokeFunction('convertToInteractive',\n",
              "                                                     [key], {});\n",
              "          if (!dataTable) return;\n",
              "\n",
              "          const docLinkHtml = 'Like what you see? Visit the ' +\n",
              "            '<a target=\"_blank\" href=https://colab.research.google.com/notebooks/data_table.ipynb>data table notebook</a>'\n",
              "            + ' to learn more about interactive tables.';\n",
              "          element.innerHTML = '';\n",
              "          dataTable['output_type'] = 'display_data';\n",
              "          await google.colab.output.renderOutput(dataTable, element);\n",
              "          const docLink = document.createElement('div');\n",
              "          docLink.innerHTML = docLinkHtml;\n",
              "          element.appendChild(docLink);\n",
              "        }\n",
              "      </script>\n",
              "    </div>\n",
              "  </div>\n",
              "  "
            ]
          },
          "metadata": {},
          "execution_count": 13
        }
      ],
      "source": [
        "max_fare = train_df['Fare'].max()\n",
        "train_df[train_df['Fare']==max_fare]"
      ]
    },
    {
      "cell_type": "markdown",
      "id": "d923faa4",
      "metadata": {
        "papermill": {
          "duration": 0.013327,
          "end_time": "2022-07-09T20:12:26.236837",
          "exception": false,
          "start_time": "2022-07-09T20:12:26.223510",
          "status": "completed"
        },
        "tags": [],
        "id": "d923faa4"
      },
      "source": [
        "<p style=\"font-size:16px;\">Umm, ils ont tous survécu. La partie la plus intéressante est que les premiers et derniers passagers étaient les serviteurs de <a href=\"https://titanic.fandom.com/wiki/Thomas_Drake_Martinez_Cardeza\">Thomas Drake Martinez Cardeza</a> qui était un riche banquier. Quelque chose cloche ici. Bon, passons à autre chose.<p>"
      ]
    },
    {
      "cell_type": "code",
      "execution_count": null,
      "id": "6a20c3d3",
      "metadata": {
        "execution": {
          "iopub.execute_input": "2022-07-09T20:12:26.266062Z",
          "iopub.status.busy": "2022-07-09T20:12:26.265475Z",
          "iopub.status.idle": "2022-07-09T20:12:26.423453Z",
          "shell.execute_reply": "2022-07-09T20:12:26.422645Z"
        },
        "papermill": {
          "duration": 0.175167,
          "end_time": "2022-07-09T20:12:26.425612",
          "exception": false,
          "start_time": "2022-07-09T20:12:26.250445",
          "status": "completed"
        },
        "tags": [],
        "id": "6a20c3d3",
        "outputId": "bcbef11e-29b7-4a0b-82e3-7a42d3aeda1a",
        "colab": {
          "base_uri": "https://localhost:8080/",
          "height": 417
        }
      },
      "outputs": [
        {
          "output_type": "execute_result",
          "data": {
            "text/plain": [
              "<matplotlib.axes._subplots.AxesSubplot at 0x7fe41580bb50>"
            ]
          },
          "metadata": {},
          "execution_count": 14
        },
        {
          "output_type": "display_data",
          "data": {
            "text/plain": [
              "<Figure size 720x432 with 1 Axes>"
            ],
            "image/png": "[encoded data removed]"
          },
          "metadata": {}
        }
      ],
      "source": [
        "#Boîte à moustaches de la classe de passagers par rapport à l'âge des passagers\n",
        "plt.figure(figsize=(10,6))\n",
        "sns.boxplot(x='Pclass',y='Age',data=train_df,palette='inferno')"
      ]
    },
    {
      "cell_type": "markdown",
      "id": "6d87f3f2",
      "metadata": {
        "papermill": {
          "duration": 0.014107,
          "end_time": "2022-07-09T20:12:26.454062",
          "exception": false,
          "start_time": "2022-07-09T20:12:26.439955",
          "status": "completed"
        },
        "tags": [],
        "id": "6d87f3f2"
      },
      "source": [
        "<p style=\"font-size:16px;\"> C'est logique, plus la personne est âgée, plus elle a tendance à avoir d'argent. Ainsi, l'âge moyen des passagers de 1ère classe était le plus élevé.<br> Vous pouvez littéralement proposer différents types de visualisation pour mieux comprendre les données, ici nous nous arrêtons et commençons l'ingénierie des fonctionnalités.<p>"
      ]
    },
    {
      "cell_type": "markdown",
      "id": "ff191980",
      "metadata": {
        "papermill": {
          "duration": 0.014202,
          "end_time": "2022-07-09T20:12:26.483005",
          "exception": false,
          "start_time": "2022-07-09T20:12:26.468803",
          "status": "completed"
        },
        "tags": [],
        "id": "ff191980"
      },
      "source": [
        "# <a id=\"anchor-name2\">Feature Engineering & Cleaning:</a>"
      ]
    },
    {
      "cell_type": "markdown",
      "id": "dba129b6",
      "metadata": {
        "papermill": {
          "duration": 0.014633,
          "end_time": "2022-07-09T20:12:26.513106",
          "exception": false,
          "start_time": "2022-07-09T20:12:26.498473",
          "status": "completed"
        },
        "tags": [],
        "id": "dba129b6"
      },
      "source": [
        "<p style=\"font-size:16px;\">L'ingénierie des fonctionnalités consiste généralement à proposer des fonctionnalités plus efficaces compte tenu de l'ensemble de données. Nous allons parcourir les colonnes une par une: PassengerId, Survived, Pclass won't be changed. Considérant les colonnes Name,Sex, Ticket, and Embarked, nous devrions transformer les mots/lettres en valeurs numériques. Nous ne faisons rien à la colonne Cabin car nous ne l'utilisons pas en raison du pourcentage élevé de valeurs manquantes<p>"
      ]
    },
    {
      "cell_type": "code",
      "execution_count": null,
      "id": "e419af07",
      "metadata": {
        "execution": {
          "iopub.execute_input": "2022-07-09T20:12:26.543969Z",
          "iopub.status.busy": "2022-07-09T20:12:26.543612Z",
          "iopub.status.idle": "2022-07-09T20:12:26.552634Z",
          "shell.execute_reply": "2022-07-09T20:12:26.551815Z"
        },
        "papermill": {
          "duration": 0.026709,
          "end_time": "2022-07-09T20:12:26.554757",
          "exception": false,
          "start_time": "2022-07-09T20:12:26.528048",
          "status": "completed"
        },
        "tags": [],
        "id": "e419af07"
      },
      "outputs": [],
      "source": [
        "#Ici, nous allons fusionner train_df et test_df puisque les étapes de nettoyage et d'ingénierie des fonctionnalités sont les mêmes.\n",
        "# Mais faisons cette astuce pour pouvoir les séparer à la fin :\n",
        "test_df['Survived'] = -1\n",
        "# Concaténer maintenant Train et Test le long des lignes\n",
        "df = pd.concat([test_df, train_df], axis=0)"
      ]
    },
    {
      "cell_type": "code",
      "execution_count": null,
      "id": "c08dcbee",
      "metadata": {
        "execution": {
          "iopub.execute_input": "2022-07-09T20:12:26.585217Z",
          "iopub.status.busy": "2022-07-09T20:12:26.584476Z",
          "iopub.status.idle": "2022-07-09T20:12:26.599497Z",
          "shell.execute_reply": "2022-07-09T20:12:26.598584Z"
        },
        "papermill": {
          "duration": 0.032528,
          "end_time": "2022-07-09T20:12:26.601583",
          "exception": false,
          "start_time": "2022-07-09T20:12:26.569055",
          "status": "completed"
        },
        "tags": [],
        "id": "c08dcbee",
        "outputId": "2123d373-f6d8-47d5-dd02-18f3c5e4dad0",
        "colab": {
          "base_uri": "https://localhost:8080/"
        }
      },
      "outputs": [
        {
          "output_type": "execute_result",
          "data": {
            "text/plain": [
              "Mr          757\n",
              "Miss        260\n",
              "Mrs         197\n",
              "Master       61\n",
              "Rev           8\n",
              "Dr            8\n",
              "Col           4\n",
              "Ms            2\n",
              "Major         2\n",
              "Mlle          2\n",
              "Sir           1\n",
              "Countess      1\n",
              "Capt          1\n",
              "Don           1\n",
              "Lady          1\n",
              "Mme           1\n",
              "Dona          1\n",
              "Jonkheer      1\n",
              "Name: Title, dtype: int64"
            ]
          },
          "metadata": {},
          "execution_count": 16
        }
      ],
      "source": [
        "#Nous allons introduire une nouvelle fonctionnalité : Name_length\n",
        "df['Name_length'] = df['Name'].apply(len)\n",
        "\n",
        "#Nous allons introduire une nouvelle fonctionnalité : Titre\n",
        "df['Title']=df.Name.str.extract('([A-Za-z]+)\\.') \n",
        "\n",
        "#Voir tous les titres de l'ensemble d'entraînement\n",
        "df['Title'].value_counts()"
      ]
    },
    {
      "cell_type": "code",
      "execution_count": null,
      "id": "deec0bb6",
      "metadata": {
        "execution": {
          "iopub.execute_input": "2022-07-09T20:12:26.632491Z",
          "iopub.status.busy": "2022-07-09T20:12:26.631762Z",
          "iopub.status.idle": "2022-07-09T20:12:26.679358Z",
          "shell.execute_reply": "2022-07-09T20:12:26.678089Z"
        },
        "papermill": {
          "duration": 0.065897,
          "end_time": "2022-07-09T20:12:26.681844",
          "exception": false,
          "start_time": "2022-07-09T20:12:26.615947",
          "status": "completed"
        },
        "tags": [],
        "id": "deec0bb6"
      },
      "outputs": [],
      "source": [
        "#Minimiser les classes de titre\n",
        "df['Title'] = df['Title'].replace(['Dr', 'Rev','Major', 'Col','Countess', 'Capt', 'Sir', 'Lady', 'Sir', 'Don','Dona', 'Jonkheer'], 'Rare')\n",
        "df['Title'] = df['Title'].replace(['Mlle', 'Ms','Mme'], ['Miss','Miss','Mrs'])\n",
        "\n",
        "#Nous pouvons fusionner SibSp et Parch dans une colonne numérique appelée Family_size\n",
        "df['Family_size'] = df['SibSp'] + df['Parch'] + 1 #Y compris le passager lui-même\n",
        "\n",
        "#Laissons tomber les colonnes que nous n'utilisons pas.\n",
        "drop_cols = ['PassengerId', 'Name', 'Ticket', 'Cabin', 'Parch', 'SibSp']\n",
        "df.drop(drop_cols, axis = 1, inplace=True)\n",
        "\n",
        "#Il y a des valeurs manquantes dans la colonne Age, nous allons les travailler :\n",
        "\n",
        "#Calculons l'âge moyen en fonction de la colonne Pclass\n",
        "age_by_class = df.groupby(['Pclass'])[['Age']].mean().to_dict()['Age']\n",
        "\n",
        "#La fonction que nous utilisons pour imputer l'âge moyen aux valeurs manquantes selon la colonne Pclass :\n",
        "def impute_age(cols):\n",
        "    Age = cols[0]\n",
        "    Pclass = cols[1]\n",
        "    \n",
        "    if pd.isnull(Age):\n",
        "        return age_by_class[Pclass]\n",
        "    else:\n",
        "        return Age\n",
        "    \n",
        "#Imputing the values using apply :\n",
        "df['Age'] = df[['Age','Pclass']].apply(impute_age,axis=1)\n",
        "\n",
        "#Imputing the values using apply:\n",
        "df['Fare'] = df['Fare'].fillna(df['Fare'].median())\n",
        "\n",
        "#Supprimez les lignes avec une valeur manquante dans la colonne 'Embarked'\n",
        "df1 = df.dropna(subset=['Embarked'])\n",
        "\n",
        "# Travaillons sur des valeurs catégorielles, et transformons-les en one-hot-encoding , valeurs numériques : Pclass, Sex, Embarked, Title\n",
        "df = pd.get_dummies(df, columns=['Pclass', 'Sex', 'Embarked', 'Title'], drop_first=True)"
      ]
    },
    {
      "cell_type": "code",
      "execution_count": null,
      "id": "d28d1397",
      "metadata": {
        "execution": {
          "iopub.execute_input": "2022-07-09T20:12:26.712980Z",
          "iopub.status.busy": "2022-07-09T20:12:26.712250Z",
          "iopub.status.idle": "2022-07-09T20:12:26.722410Z",
          "shell.execute_reply": "2022-07-09T20:12:26.721636Z"
        },
        "papermill": {
          "duration": 0.028336,
          "end_time": "2022-07-09T20:12:26.724762",
          "exception": false,
          "start_time": "2022-07-09T20:12:26.696426",
          "status": "completed"
        },
        "tags": [],
        "id": "d28d1397"
      },
      "outputs": [],
      "source": [
        "#C'est une bonne pratique de normaliser les colonnes numériques :\n",
        "scaler = StandardScaler()\n",
        "df[['Age', 'Fare', 'Family_size', 'Name_length']] = scaler.fit_transform(df[['Age', 'Fare', 'Family_size', 'Name_length']])"
      ]
    },
    {
      "cell_type": "code",
      "execution_count": null,
      "id": "6becdb52",
      "metadata": {
        "execution": {
          "iopub.execute_input": "2022-07-09T20:12:26.755800Z",
          "iopub.status.busy": "2022-07-09T20:12:26.755092Z",
          "iopub.status.idle": "2022-07-09T20:12:26.769837Z",
          "shell.execute_reply": "2022-07-09T20:12:26.768857Z"
        },
        "papermill": {
          "duration": 0.032544,
          "end_time": "2022-07-09T20:12:26.771897",
          "exception": false,
          "start_time": "2022-07-09T20:12:26.739353",
          "status": "completed"
        },
        "tags": [],
        "id": "6becdb52",
        "outputId": "e6fb9832-854d-4c85-be99-12b19bf5f1e1",
        "colab": {
          "base_uri": "https://localhost:8080/",
          "height": 270
        }
      },
      "outputs": [
        {
          "output_type": "execute_result",
          "data": {
            "text/plain": [
              "        Age      Fare  Survived  Name_length  Family_size  Pclass_2  Pclass_3  \\\n",
              "0  0.392581 -0.492093        -1    -1.171292    -0.558346         0         1   \n",
              "1  1.345120 -0.508125        -1     0.512410     0.073352         0         1   \n",
              "2  2.488165 -0.456164        -1    -0.224210    -0.558346         1         0   \n",
              "3 -0.178941 -0.475981        -1    -1.171292    -0.558346         0         1   \n",
              "4 -0.559957 -0.405895        -1     1.775186     0.705051         0         1   \n",
              "\n",
              "   Sex_male  Embarked_Q  Embarked_S  Title_Miss  Title_Mr  Title_Mrs  \\\n",
              "0         1           1           0           0         1          0   \n",
              "1         0           0           1           0         0          1   \n",
              "2         1           1           0           0         1          0   \n",
              "3         1           0           1           0         1          0   \n",
              "4         0           0           1           0         0          1   \n",
              "\n",
              "   Title_Rare  \n",
              "0           0  \n",
              "1           0  \n",
              "2           0  \n",
              "3           0  \n",
              "4           0  "
            ],
            "text/html": [
              "\n",
              "  <div id=\"df-f9d9e8fa-5f09-433d-9a48-f994b45f0ab9\">\n",
              "    <div class=\"colab-df-container\">\n",
              "      <div>\n",
              "<style scoped>\n",
              "    .dataframe tbody tr th:only-of-type {\n",
              "        vertical-align: middle;\n",
              "    }\n",
              "\n",
              "    .dataframe tbody tr th {\n",
              "        vertical-align: top;\n",
              "    }\n",
              "\n",
              "    .dataframe thead th {\n",
              "        text-align: right;\n",
              "    }\n",
              "</style>\n",
              "<table border=\"1\" class=\"dataframe\">\n",
              "  <thead>\n",
              "    <tr style=\"text-align: right;\">\n",
              "      <th></th>\n",
              "      <th>Age</th>\n",
              "      <th>Fare</th>\n",
              "      <th>Survived</th>\n",
              "      <th>Name_length</th>\n",
              "      <th>Family_size</th>\n",
              "      <th>Pclass_2</th>\n",
              "      <th>Pclass_3</th>\n",
              "      <th>Sex_male</th>\n",
              "      <th>Embarked_Q</th>\n",
              "      <th>Embarked_S</th>\n",
              "      <th>Title_Miss</th>\n",
              "      <th>Title_Mr</th>\n",
              "      <th>Title_Mrs</th>\n",
              "      <th>Title_Rare</th>\n",
              "    </tr>\n",
              "  </thead>\n",
              "  <tbody>\n",
              "    <tr>\n",
              "      <th>0</th>\n",
              "      <td>0.392581</td>\n",
              "      <td>-0.492093</td>\n",
              "      <td>-1</td>\n",
              "      <td>-1.171292</td>\n",
              "      <td>-0.558346</td>\n",
              "      <td>0</td>\n",
              "      <td>1</td>\n",
              "      <td>1</td>\n",
              "      <td>1</td>\n",
              "      <td>0</td>\n",
              "      <td>0</td>\n",
              "      <td>1</td>\n",
              "      <td>0</td>\n",
              "      <td>0</td>\n",
              "    </tr>\n",
              "    <tr>\n",
              "      <th>1</th>\n",
              "      <td>1.345120</td>\n",
              "      <td>-0.508125</td>\n",
              "      <td>-1</td>\n",
              "      <td>0.512410</td>\n",
              "      <td>0.073352</td>\n",
              "      <td>0</td>\n",
              "      <td>1</td>\n",
              "      <td>0</td>\n",
              "      <td>0</td>\n",
              "      <td>1</td>\n",
              "      <td>0</td>\n",
              "      <td>0</td>\n",
              "      <td>1</td>\n",
              "      <td>0</td>\n",
              "    </tr>\n",
              "    <tr>\n",
              "      <th>2</th>\n",
              "      <td>2.488165</td>\n",
              "      <td>-0.456164</td>\n",
              "      <td>-1</td>\n",
              "      <td>-0.224210</td>\n",
              "      <td>-0.558346</td>\n",
              "      <td>1</td>\n",
              "      <td>0</td>\n",
              "      <td>1</td>\n",
              "      <td>1</td>\n",
              "      <td>0</td>\n",
              "      <td>0</td>\n",
              "      <td>1</td>\n",
              "      <td>0</td>\n",
              "      <td>0</td>\n",
              "    </tr>\n",
              "    <tr>\n",
              "      <th>3</th>\n",
              "      <td>-0.178941</td>\n",
              "      <td>-0.475981</td>\n",
              "      <td>-1</td>\n",
              "      <td>-1.171292</td>\n",
              "      <td>-0.558346</td>\n",
              "      <td>0</td>\n",
              "      <td>1</td>\n",
              "      <td>1</td>\n",
              "      <td>0</td>\n",
              "      <td>1</td>\n",
              "      <td>0</td>\n",
              "      <td>1</td>\n",
              "      <td>0</td>\n",
              "      <td>0</td>\n",
              "    </tr>\n",
              "    <tr>\n",
              "      <th>4</th>\n",
              "      <td>-0.559957</td>\n",
              "      <td>-0.405895</td>\n",
              "      <td>-1</td>\n",
              "      <td>1.775186</td>\n",
              "      <td>0.705051</td>\n",
              "      <td>0</td>\n",
              "      <td>1</td>\n",
              "      <td>0</td>\n",
              "      <td>0</td>\n",
              "      <td>1</td>\n",
              "      <td>0</td>\n",
              "      <td>0</td>\n",
              "      <td>1</td>\n",
              "      <td>0</td>\n",
              "    </tr>\n",
              "  </tbody>\n",
              "</table>\n",
              "</div>\n",
              "      <button class=\"colab-df-convert\" onclick=\"convertToInteractive('df-f9d9e8fa-5f09-433d-9a48-f994b45f0ab9')\"\n",
              "              title=\"Convert this dataframe to an interactive table.\"\n",
              "              style=\"display:none;\">\n",
              "        \n",
              "  <svg xmlns=\"http://www.w3.org/2000/svg\" height=\"24px\"viewBox=\"0 0 24 24\"\n",
              "       width=\"24px\">\n",
              "    <path d=\"M0 0h24v24H0V0z\" fill=\"none\"/>\n",
              "    <path d=\"M18.56 5.44l.94 2.06.94-2.06 2.06-.94-2.06-.94-.94-2.06-.94 2.06-2.06.94zm-11 1L8.5 8.5l.94-2.06 2.06-.94-2.06-.94L8.5 2.5l-.94 2.06-2.06.94zm10 10l.94 2.06.94-2.06 2.06-.94-2.06-.94-.94-2.06-.94 2.06-2.06.94z\"/><path d=\"M17.41 7.96l-1.37-1.37c-.4-.4-.92-.59-1.43-.59-.52 0-1.04.2-1.43.59L10.3 9.45l-7.72 7.72c-.78.78-.78 2.05 0 2.83L4 21.41c.39.39.9.59 1.41.59.51 0 1.02-.2 1.41-.59l7.78-7.78 2.81-2.81c.8-.78.8-2.07 0-2.86zM5.41 20L4 18.59l7.72-7.72 1.47 1.35L5.41 20z\"/>\n",
              "  </svg>\n",
              "      </button>\n",
              "      \n",
              "  <style>\n",
              "    .colab-df-container {\n",
              "      display:flex;\n",
              "      flex-wrap:wrap;\n",
              "      gap: 12px;\n",
              "    }\n",
              "\n",
              "    .colab-df-convert {\n",
              "      background-color: #E8F0FE;\n",
              "      border: none;\n",
              "      border-radius: 50%;\n",
              "      cursor: pointer;\n",
              "      display: none;\n",
              "      fill: #1967D2;\n",
              "      height: 32px;\n",
              "      padding: 0 0 0 0;\n",
              "      width: 32px;\n",
              "    }\n",
              "\n",
              "    .colab-df-convert:hover {\n",
              "      background-color: #E2EBFA;\n",
              "      box-shadow: 0px 1px 2px rgba(60, 64, 67, 0.3), 0px 1px 3px 1px rgba(60, 64, 67, 0.15);\n",
              "      fill: #174EA6;\n",
              "    }\n",
              "\n",
              "    [theme=dark] .colab-df-convert {\n",
              "      background-color: #3B4455;\n",
              "      fill: #D2E3FC;\n",
              "    }\n",
              "\n",
              "    [theme=dark] .colab-df-convert:hover {\n",
              "      background-color: #434B5C;\n",
              "      box-shadow: 0px 1px 3px 1px rgba(0, 0, 0, 0.15);\n",
              "      filter: drop-shadow(0px 1px 2px rgba(0, 0, 0, 0.3));\n",
              "      fill: #FFFFFF;\n",
              "    }\n",
              "  </style>\n",
              "\n",
              "      <script>\n",
              "        const buttonEl =\n",
              "          document.querySelector('#df-f9d9e8fa-5f09-433d-9a48-f994b45f0ab9 button.colab-df-convert');\n",
              "        buttonEl.style.display =\n",
              "          google.colab.kernel.accessAllowed ? 'block' : 'none';\n",
              "\n",
              "        async function convertToInteractive(key) {\n",
              "          const element = document.querySelector('#df-f9d9e8fa-5f09-433d-9a48-f994b45f0ab9');\n",
              "          const dataTable =\n",
              "            await google.colab.kernel.invokeFunction('convertToInteractive',\n",
              "                                                     [key], {});\n",
              "          if (!dataTable) return;\n",
              "\n",
              "          const docLinkHtml = 'Like what you see? Visit the ' +\n",
              "            '<a target=\"_blank\" href=https://colab.research.google.com/notebooks/data_table.ipynb>data table notebook</a>'\n",
              "            + ' to learn more about interactive tables.';\n",
              "          element.innerHTML = '';\n",
              "          dataTable['output_type'] = 'display_data';\n",
              "          await google.colab.output.renderOutput(dataTable, element);\n",
              "          const docLink = document.createElement('div');\n",
              "          docLink.innerHTML = docLinkHtml;\n",
              "          element.appendChild(docLink);\n",
              "        }\n",
              "      </script>\n",
              "    </div>\n",
              "  </div>\n",
              "  "
            ]
          },
          "metadata": {},
          "execution_count": 19
        }
      ],
      "source": [
        "df.head()"
      ]
    },
    {
      "cell_type": "code",
      "execution_count": null,
      "id": "a7cdfa81",
      "metadata": {
        "execution": {
          "iopub.execute_input": "2022-07-09T20:12:26.803247Z",
          "iopub.status.busy": "2022-07-09T20:12:26.802239Z",
          "iopub.status.idle": "2022-07-09T20:12:26.809673Z",
          "shell.execute_reply": "2022-07-09T20:12:26.808935Z"
        },
        "papermill": {
          "duration": 0.025517,
          "end_time": "2022-07-09T20:12:26.811822",
          "exception": false,
          "start_time": "2022-07-09T20:12:26.786305",
          "status": "completed"
        },
        "tags": [],
        "id": "a7cdfa81"
      },
      "outputs": [],
      "source": [
        "# Maintenant, nous pouvons les séparer comme nous les avons fusionnés auparavant\n",
        "train_df = df[df[\"Survived\"]!=-1].copy()\n",
        "test_df = df[df[\"Survived\"]==-1].copy()"
      ]
    },
    {
      "cell_type": "code",
      "execution_count": null,
      "id": "2b7ce179",
      "metadata": {
        "execution": {
          "iopub.execute_input": "2022-07-09T20:12:26.843399Z",
          "iopub.status.busy": "2022-07-09T20:12:26.842634Z",
          "iopub.status.idle": "2022-07-09T20:12:26.848839Z",
          "shell.execute_reply": "2022-07-09T20:12:26.847949Z"
        },
        "papermill": {
          "duration": 0.02485,
          "end_time": "2022-07-09T20:12:26.851314",
          "exception": false,
          "start_time": "2022-07-09T20:12:26.826464",
          "status": "completed"
        },
        "tags": [],
        "id": "2b7ce179"
      },
      "outputs": [],
      "source": [
        "# Eliminons la colonne 'Survived' du test set:\n",
        "test_df.drop(\"Survived\", axis = 1, inplace=True)"
      ]
    },
    {
      "cell_type": "markdown",
      "id": "d05e4751",
      "metadata": {
        "papermill": {
          "duration": 0.01486,
          "end_time": "2022-07-09T20:12:26.881198",
          "exception": false,
          "start_time": "2022-07-09T20:12:26.866338",
          "status": "completed"
        },
        "tags": [],
        "id": "d05e4751"
      },
      "source": [
        "# <a id=\"anchor-name3\">k-Nearest Neighbors:</a>"
      ]
    },
    {
      "cell_type": "markdown",
      "id": "4d29cae7",
      "metadata": {
        "papermill": {
          "duration": 0.014721,
          "end_time": "2022-07-09T20:12:26.911948",
          "exception": false,
          "start_time": "2022-07-09T20:12:26.897227",
          "status": "completed"
        },
        "tags": [],
        "id": "4d29cae7"
      },
      "source": [
        "<p style=\"font-size:16px;\">Le k-plus proches voisins (KNN) est un simple algorithme d'apprentissage automatique supervisé qui peut être utilisé pour résoudre à la fois des problèmes de classification et de régression.</p>\n",
        "<center><img src=\"http://res.cloudinary.com/dyd911kmh/image/upload/f_auto,q_auto:best/v1531424125/KNN_final_a1mrv9.png\" alt=\"drawing\" width=\"300\"/></center>\n",
        "<p style=\"font-size:16px;\">En termes simples, nous regardons simplement les N voisins les plus proches et découvrons la classe majoritaire parmi eux. Comme vous pouvez le voir, si K = 3, les nouvelles données seront affectées à la classe B, mais si k = 7, elles deviendront la classe A. <br>\n",
        "     Lorsque k <b>augmente</b>, la complexité du modèle diminue, <b>sous-apprend</b> les données.<br>\n",
        "Lorsque k <b>diminue</b>, la complexité du modèle augmente, <b>sur-apprend</b> les données.<br>\n",
        "</p>"
      ]
    },
    {
      "cell_type": "code",
      "execution_count": null,
      "id": "a09e3f73",
      "metadata": {
        "execution": {
          "iopub.execute_input": "2022-07-09T20:12:26.944413Z",
          "iopub.status.busy": "2022-07-09T20:12:26.943630Z",
          "iopub.status.idle": "2022-07-09T20:12:26.955498Z",
          "shell.execute_reply": "2022-07-09T20:12:26.954165Z"
        },
        "papermill": {
          "duration": 0.030822,
          "end_time": "2022-07-09T20:12:26.958113",
          "exception": false,
          "start_time": "2022-07-09T20:12:26.927291",
          "status": "completed"
        },
        "tags": [],
        "id": "a09e3f73"
      },
      "outputs": [],
      "source": [
        "#Créons un dictionnaire pour toutes les précisions de modèle dans le bloc-notes :\n",
        "model_accuracy = dict()\n",
        "#Train test split\n",
        "X = train_df.drop('Survived', axis = 1)\n",
        "y = train_df['Survived']\n",
        "X_train, X_val, y_train, y_val = train_test_split(X,y, test_size=0.2, random_state=42, stratify=y)"
      ]
    },
    {
      "cell_type": "markdown",
      "source": [
        "Nous avons découpé notre ensemble d'entrainement de sorte à obtenir un 3 jeux de données: 'entrainement', 'validation', et 'test'.\n",
        "\n",
        "L'illustration ci-dessous, vous permettra de mieux visualiser.\n",
        "\n",
        "![Training-dataset-Testing-Dataset-Validation-dataset-i2tutorials.png](data:image/png;base64,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)"
      ],
      "metadata": {
        "id": "FuR8JyY3Rh_h"
      },
      "id": "FuR8JyY3Rh_h"
    },
    {
      "cell_type": "code",
      "execution_count": null,
      "id": "e384dcfe",
      "metadata": {
        "execution": {
          "iopub.execute_input": "2022-07-09T20:12:26.989288Z",
          "iopub.status.busy": "2022-07-09T20:12:26.988722Z",
          "iopub.status.idle": "2022-07-09T20:12:29.105672Z",
          "shell.execute_reply": "2022-07-09T20:12:29.104507Z"
        },
        "papermill": {
          "duration": 2.135523,
          "end_time": "2022-07-09T20:12:29.108201",
          "exception": false,
          "start_time": "2022-07-09T20:12:26.972678",
          "status": "completed"
        },
        "tags": [],
        "id": "e384dcfe",
        "outputId": "5454185a-240b-4282-a683-ef08d61d8c82",
        "colab": {
          "base_uri": "https://localhost:8080/"
        }
      },
      "outputs": [
        {
          "output_type": "stream",
          "name": "stdout",
          "text": [
            "The best accuracy: 0.8268156424581006 when k=27\n"
          ]
        }
      ],
      "source": [
        "# KNN Classification\n",
        "# Choisissons le k le plus optimal\n",
        "neighbors = np.arange(1, 50)\n",
        "train_acc = {}\n",
        "val_acc = {}\n",
        "\n",
        "for neighbor in neighbors:\n",
        "    # Set up a KNN Classifier\n",
        "    knn = KNeighborsClassifier(n_neighbors=neighbor)\n",
        "\n",
        "    # Fit the model\n",
        "    knn.fit(X_train, y_train)\n",
        "  \n",
        "    # Compute accuracy\n",
        "    train_acc[neighbor] = knn.score(X_train, y_train)\n",
        "    val_acc[neighbor] = knn.score(X_val, y_val)\n",
        "    \n",
        "model_accuracy['KNN'] = max(val_acc.values())\n",
        "print(\"The best accuracy: {} when k={}\".format(max(val_acc.values()),max(val_acc, key=val_acc.get)))"
      ]
    },
    {
      "cell_type": "code",
      "execution_count": null,
      "id": "fc1e635c",
      "metadata": {
        "execution": {
          "iopub.execute_input": "2022-07-09T20:12:29.140022Z",
          "iopub.status.busy": "2022-07-09T20:12:29.138986Z",
          "iopub.status.idle": "2022-07-09T20:12:29.324341Z",
          "shell.execute_reply": "2022-07-09T20:12:29.323568Z"
        },
        "papermill": {
          "duration": 0.203192,
          "end_time": "2022-07-09T20:12:29.326347",
          "exception": false,
          "start_time": "2022-07-09T20:12:29.123155",
          "status": "completed"
        },
        "tags": [],
        "id": "fc1e635c",
        "outputId": "6d5c3c33-4051-48c8-df2a-24415f75943e",
        "colab": {
          "base_uri": "https://localhost:8080/",
          "height": 418
        }
      },
      "outputs": [
        {
          "output_type": "display_data",
          "data": {
            "text/plain": [
              "<Figure size 720x432 with 1 Axes>"
            ],
            "image/png": "[encoded data removed]"
          },
          "metadata": {}
        }
      ],
      "source": [
        "# We can see the plot here below\n",
        "sns.set_style('whitegrid',{'axes.grid' : False})\n",
        "# Add a title\n",
        "plt.figure(figsize=(10,6))\n",
        "plt.title(\"KNN Classification\")\n",
        "\n",
        "# Plot training accuracies\n",
        "plt.plot(neighbors, list(train_acc.values()), label=\"Training Accuracy\")\n",
        "\n",
        "# Plot test accuracies\n",
        "plt.plot(neighbors, list(val_acc.values()), label=\"Testing Accuracy\")\n",
        "\n",
        "plt.legend()\n",
        "plt.xlabel(\"Number of Neighbors\")\n",
        "plt.ylabel(\"Accuracy\")\n",
        "\n",
        "# Display the plot\n",
        "plt.show()"
      ]
    },
    {
      "cell_type": "markdown",
      "id": "de997c88",
      "metadata": {
        "papermill": {
          "duration": 0.01527,
          "end_time": "2022-07-09T20:12:29.358086",
          "exception": false,
          "start_time": "2022-07-09T20:12:29.342816",
          "status": "completed"
        },
        "tags": [],
        "id": "de997c88"
      },
      "source": [
        "<p style=\"font-size:16px;\">Les k-plus proches voisins (KNN) ont bien fonctionné, nous avons eu la meilleure précision lorsque k=27, super , mais pourquoi s'arrêter ici. Partons à l'aventure à travers d'autres algorithmes à la recherche de la meilleure précision !</p>"
      ]
    },
    {
      "cell_type": "markdown",
      "id": "23bb0210",
      "metadata": {
        "execution": {
          "iopub.execute_input": "2022-07-09T11:05:11.367443Z",
          "iopub.status.busy": "2022-07-09T11:05:11.367056Z",
          "iopub.status.idle": "2022-07-09T11:05:11.372707Z",
          "shell.execute_reply": "2022-07-09T11:05:11.37147Z",
          "shell.execute_reply.started": "2022-07-09T11:05:11.36741Z"
        },
        "papermill": {
          "duration": 0.015074,
          "end_time": "2022-07-09T20:12:29.388786",
          "exception": false,
          "start_time": "2022-07-09T20:12:29.373712",
          "status": "completed"
        },
        "tags": [],
        "id": "23bb0210"
      },
      "source": [
        "# <a id=\"anchor-name4\">Logistic Regression:</a>\n",
        "<p style=\"font-size:16px;\">La régression logistique modélise les probabilités de problèmes de classification avec deux résultats possibles. C'est une extension du modèle de régression linéaire pour les problèmes de classification. Essayez <a href=\"https://www.youtube.com/watch?v=yIYKR4sgzI8&ab_channel=StatQuestwithJoshStarmer\">Cette</a> vidéo amusante de StatQuests pour plus d'informations.</p>"
      ]
    },
    {
      "cell_type": "code",
      "execution_count": null,
      "id": "6f672023",
      "metadata": {
        "execution": {
          "iopub.execute_input": "2022-07-09T20:12:29.421307Z",
          "iopub.status.busy": "2022-07-09T20:12:29.420635Z",
          "iopub.status.idle": "2022-07-09T20:12:29.457448Z",
          "shell.execute_reply": "2022-07-09T20:12:29.456083Z"
        },
        "papermill": {
          "duration": 0.056818,
          "end_time": "2022-07-09T20:12:29.460941",
          "exception": false,
          "start_time": "2022-07-09T20:12:29.404123",
          "status": "completed"
        },
        "tags": [],
        "id": "6f672023",
        "outputId": "230666bd-e8a2-4937-cc66-5b0fe6b35677",
        "colab": {
          "base_uri": "https://localhost:8080/"
        }
      },
      "outputs": [
        {
          "output_type": "stream",
          "name": "stdout",
          "text": [
            "0.8156424581005587\n",
            "0.8286516853932584\n"
          ]
        }
      ],
      "source": [
        "# Set up a LogisticRegression Classifier\n",
        "lr = LogisticRegression(solver='lbfgs', max_iter=1000)\n",
        "\n",
        "# Fit the model\n",
        "lr.fit(X_train, y_train)\n",
        "\n",
        "# Compute accuracy\n",
        "print(lr.score(X_val, y_val))\n",
        "print(lr.score(X_train, y_train))\n"
      ]
    },
    {
      "cell_type": "markdown",
      "id": "fa3837c3",
      "metadata": {
        "papermill": {
          "duration": 0.031185,
          "end_time": "2022-07-09T20:12:29.523120",
          "exception": false,
          "start_time": "2022-07-09T20:12:29.491935",
          "status": "completed"
        },
        "tags": [],
        "id": "fa3837c3"
      },
      "source": [
        "<p style=\"font-size:16px;\">Essayons de jouer avec ses hyperparamètres, il semble que nous pouvons tirer un peu plus de cet attaboy sous-ajusté. Contrairement au cas dans KNN, nous utiliserons une meilleure méthode appelée 'GridSearchCV'. Il essaie simplement différentes valeurs de paramètres et trouve la meilleure estimation pour nous, il peut également effectuer une CrossValidation en même temps. Merveilleux, hein !</p>"
      ]
    },
    {
      "cell_type": "code",
      "execution_count": null,
      "id": "8fb428f9",
      "metadata": {
        "execution": {
          "iopub.execute_input": "2022-07-09T20:12:29.582557Z",
          "iopub.status.busy": "2022-07-09T20:12:29.582169Z",
          "iopub.status.idle": "2022-07-09T20:12:30.065584Z",
          "shell.execute_reply": "2022-07-09T20:12:30.064006Z"
        },
        "papermill": {
          "duration": 0.515755,
          "end_time": "2022-07-09T20:12:30.069537",
          "exception": false,
          "start_time": "2022-07-09T20:12:29.553782",
          "status": "completed"
        },
        "tags": [],
        "id": "8fb428f9",
        "outputId": "b4eac3b6-446e-4f72-d4b8-3ff1360fc0c6",
        "colab": {
          "base_uri": "https://localhost:8080/"
        }
      },
      "outputs": [
        {
          "output_type": "stream",
          "name": "stdout",
          "text": [
            "The best accuracy: 0.8491620111731844 when C=100\n"
          ]
        }
      ],
      "source": [
        "# Set up a LogisticRegression Classifier:\n",
        "linear_classifier = LogisticRegression(solver='lbfgs', max_iter=1000)\n",
        "\n",
        "# Showing the parameters and initiliazing the GridSearch5-FoldCv:\n",
        "parameters = {'C':[1, 10, 100, 1000, 10000]}\n",
        "searcher = GridSearchCV(linear_classifier, parameters, cv=5)\n",
        "searcher.fit(X_train, y_train)\n",
        "\n",
        "best_acc = searcher.score(X_val, y_val)\n",
        "#Adding the best score to the final dict\n",
        "model_accuracy['Logistic Regression'] = searcher.score(X_val, y_val)\n",
        "\n",
        "# Reporting the best values:\n",
        "print(\"The best accuracy: {} when C={}\".format(best_acc,searcher.best_params_['C']))\n",
        "\n",
        "#list of prediction probabilities for ROC curve\n",
        "y_pred_probs = searcher.predict_proba(X_val)[:, 1]\n",
        "#=-=-=-=-=-=-=-=-=-=-=-=-=-=-=-=-=-=-=-=-=-=-=\n",
        "#  Added later\n",
        "model_final_eval =  searcher.best_estimator_"
      ]
    },
    {
      "cell_type": "markdown",
      "id": "915d4482",
      "metadata": {
        "papermill": {
          "duration": 0.056745,
          "end_time": "2022-07-09T20:12:30.157946",
          "exception": false,
          "start_time": "2022-07-09T20:12:30.101201",
          "status": "completed"
        },
        "tags": [],
        "id": "915d4482"
      },
      "source": [
        "<p style=\"font-size:20px;\">Voila! We have <b>85%</b> d'accuracy après avoir bidouillé le modèle.</p>"
      ]
    },
    {
      "cell_type": "code",
      "execution_count": null,
      "id": "e3b14a66",
      "metadata": {
        "execution": {
          "iopub.execute_input": "2022-07-09T20:12:30.197827Z",
          "iopub.status.busy": "2022-07-09T20:12:30.197414Z",
          "iopub.status.idle": "2022-07-09T20:12:30.420368Z",
          "shell.execute_reply": "2022-07-09T20:12:30.419242Z"
        },
        "papermill": {
          "duration": 0.242236,
          "end_time": "2022-07-09T20:12:30.422892",
          "exception": false,
          "start_time": "2022-07-09T20:12:30.180656",
          "status": "completed"
        },
        "tags": [],
        "id": "e3b14a66",
        "outputId": "7033579b-4737-496e-873d-d3ddd12ea3ee",
        "colab": {
          "base_uri": "https://localhost:8080/",
          "height": 418
        }
      },
      "outputs": [
        {
          "output_type": "display_data",
          "data": {
            "text/plain": [
              "<Figure size 720x432 with 1 Axes>"
            ],
            "image/png": "[encoded data removed]"
          },
          "metadata": {}
        }
      ],
      "source": [
        "# The ROC Curve is mostly used along confusion matrix when working with classification problems\n",
        "# The closer the figure to the left corner , or the more the areas under the curver, the better it is:\n",
        "plt.figure(figsize=(10,6))\n",
        "\n",
        "# Generate ROC curve values: fpr, tpr, thresholds\n",
        "fpr, tpr, thresholds = roc_curve(y_val, y_pred_probs)\n",
        "\n",
        "plt.plot([0, 1], [0, 1], 'k--')\n",
        "\n",
        "plt.plot([0, 0], [0, 1], 'r--')\n",
        "plt.plot([1, 0], [1, 1], 'r--')\n",
        "\n",
        "# Plot tpr against fpr\n",
        "plt.plot(fpr, tpr)\n",
        "plt.xlabel('False Positive Rate')\n",
        "plt.ylabel('True Positive Rate')\n",
        "plt.title('ROC')\n",
        "plt.show()"
      ]
    },
    {
      "cell_type": "markdown",
      "id": "fa219710",
      "metadata": {
        "papermill": {
          "duration": 0.016584,
          "end_time": "2022-07-09T20:12:30.456340",
          "exception": false,
          "start_time": "2022-07-09T20:12:30.439756",
          "status": "completed"
        },
        "tags": [],
        "id": "fa219710"
      },
      "source": [
        "# <a id=\"anchor-name5\">SVC - Support Vector Classifier</a>\n",
        "<p style=\"font-size:16px;\">Support Vector Machine (SVM) est un algorithme d'apprentissage automatique supervisé qui peut être utilisé à la fois pour des problèmes de classification ou de régression. Une machine à vecteurs de support (SVM) est un algorithme d'apprentissage automatique supervisé qui résout des problèmes de classification à deux groupes.<a href=\"https://www.youtube.com/watch?v=efR1C6CvhmE&ab_channel=StatQuestwithJoshStarmer\">Cette</a> vidéo musicale par StatQuests vient à la rescousse pour plus d'infos.</p>"
      ]
    },
    {
      "cell_type": "code",
      "execution_count": null,
      "id": "94237a9d",
      "metadata": {
        "execution": {
          "iopub.execute_input": "2022-07-09T20:12:30.491542Z",
          "iopub.status.busy": "2022-07-09T20:12:30.490839Z",
          "iopub.status.idle": "2022-07-09T20:12:33.398165Z",
          "shell.execute_reply": "2022-07-09T20:12:33.396882Z"
        },
        "papermill": {
          "duration": 2.927796,
          "end_time": "2022-07-09T20:12:33.400828",
          "exception": false,
          "start_time": "2022-07-09T20:12:30.473032",
          "status": "completed"
        },
        "tags": [],
        "id": "94237a9d",
        "outputId": "e07bd391-a506-4ed0-f5fd-6f8cdca7e18f",
        "colab": {
          "base_uri": "https://localhost:8080/"
        }
      },
      "outputs": [
        {
          "output_type": "stream",
          "name": "stdout",
          "text": [
            "The best accuracy: 0.8044692737430168 when {'C': 20, 'gamma': 0.1}\n"
          ]
        }
      ],
      "source": [
        "#Since we got really goot at training data, let's start right from here:\n",
        "# Instantiate an SVM\n",
        "svm = SVC()\n",
        "\n",
        "# Showing the parameters and initiliazing the GridSearch5-FoldCv:\n",
        "parameters = {'C':[0.1, 1, 10, 20,30], 'gamma':[0.01, 0.03, 0.1, 0.3, 1]}\n",
        "searcher = GridSearchCV(svm, parameters, cv=5)\n",
        "searcher.fit(X_train, y_train)\n",
        "\n",
        "best_acc = searcher.score(X_val, y_val)\n",
        "#Adding the best score to the final dict\n",
        "model_accuracy['SVC'] = searcher.score(X_val, y_val)\n",
        "\n",
        "# Reporting the best values:\n",
        "print(\"The best accuracy: {} when {}\".format(best_acc,searcher.best_params_))\n"
      ]
    },
    {
      "cell_type": "markdown",
      "id": "b66869dd",
      "metadata": {
        "execution": {
          "iopub.execute_input": "2022-07-09T13:19:36.72486Z",
          "iopub.status.busy": "2022-07-09T13:19:36.724133Z",
          "iopub.status.idle": "2022-07-09T13:19:36.732342Z",
          "shell.execute_reply": "2022-07-09T13:19:36.730789Z",
          "shell.execute_reply.started": "2022-07-09T13:19:36.724808Z"
        },
        "papermill": {
          "duration": 0.01647,
          "end_time": "2022-07-09T20:12:33.434227",
          "exception": false,
          "start_time": "2022-07-09T20:12:33.417757",
          "status": "completed"
        },
        "tags": [],
        "id": "b66869dd"
      },
      "source": [
        "<p style=\"font-size:20px;\">Voila! Nous avons une précision de <b>80 %</b>, et le SVC est nul ! Quoi qu'il en soit, commençons maintenant les méthodes d'ensemble !</p>"
      ]
    },
    {
      "cell_type": "markdown",
      "id": "d9b5e77b",
      "metadata": {
        "papermill": {
          "duration": 0.017628,
          "end_time": "2022-07-09T20:12:33.470267",
          "exception": false,
          "start_time": "2022-07-09T20:12:33.452639",
          "status": "completed"
        },
        "tags": [],
        "id": "d9b5e77b"
      },
      "source": [
        "# <a id=\"anchor-name6\">Ensemble Methods</a>\n",
        "<p style=\"font-size:16px;\">Il existe de nombreuses méthodes d'apprentissage d'ensemble pour les problèmes de classification. L'apprentissage d'ensemble est une méta-approche générale de l'apprentissage automatique qui recherche de meilleures performances prédictives en combinant les prédictions de différents modèles mis ensemble.</p>\n",
        "\n",
        "## Classification and Regression Tree (CART):\n"
      ]
    },
    {
      "cell_type": "code",
      "execution_count": null,
      "id": "5f564f08",
      "metadata": {
        "execution": {
          "iopub.execute_input": "2022-07-09T20:12:33.505427Z",
          "iopub.status.busy": "2022-07-09T20:12:33.504978Z",
          "iopub.status.idle": "2022-07-09T20:12:33.902304Z",
          "shell.execute_reply": "2022-07-09T20:12:33.900483Z"
        },
        "papermill": {
          "duration": 0.417963,
          "end_time": "2022-07-09T20:12:33.905133",
          "exception": false,
          "start_time": "2022-07-09T20:12:33.487170",
          "status": "completed"
        },
        "tags": [],
        "id": "5f564f08",
        "outputId": "a701c526-486a-4a08-c7db-38159ed36727",
        "colab": {
          "base_uri": "https://localhost:8080/"
        }
      },
      "outputs": [
        {
          "output_type": "stream",
          "name": "stdout",
          "text": [
            "The best accuracy: 0.8324022346368715 when {'max_depth': 3}\n"
          ]
        }
      ],
      "source": [
        "# Instantiate the DecisionTreeClassifier\n",
        "dt = DecisionTreeClassifier()\n",
        "\n",
        "# Showing the parameters and initiliazing the GridSearch5-FoldCv:\n",
        "parameters = {'max_depth':list(range(1,15))}\n",
        "searcher = GridSearchCV(dt, parameters, cv=5)\n",
        "searcher.fit(X_train, y_train)\n",
        "\n",
        "best_acc = searcher.score(X_val, y_val)\n",
        "#Adding the best score to the final dict\n",
        "model_accuracy['Decision Tree'] = searcher.score(X_val, y_val)\n",
        "\n",
        "# Reporting the best values:\n",
        "print(\"The best accuracy: {} when {}\".format(best_acc,searcher.best_params_))"
      ]
    },
    {
      "cell_type": "markdown",
      "id": "2ff1dc0e",
      "metadata": {
        "papermill": {
          "duration": 0.016555,
          "end_time": "2022-07-09T20:12:33.938681",
          "exception": false,
          "start_time": "2022-07-09T20:12:33.922126",
          "status": "completed"
        },
        "tags": [],
        "id": "2ff1dc0e"
      },
      "source": [
        "## <a id=\"anchor-name5\">Voting Classifier:</a>"
      ]
    },
    {
      "cell_type": "code",
      "execution_count": null,
      "id": "195e09b9",
      "metadata": {
        "execution": {
          "iopub.execute_input": "2022-07-09T20:12:33.974872Z",
          "iopub.status.busy": "2022-07-09T20:12:33.974448Z",
          "iopub.status.idle": "2022-07-09T20:12:34.130525Z",
          "shell.execute_reply": "2022-07-09T20:12:34.129208Z"
        },
        "papermill": {
          "duration": 0.179068,
          "end_time": "2022-07-09T20:12:34.135187",
          "exception": false,
          "start_time": "2022-07-09T20:12:33.956119",
          "status": "completed"
        },
        "tags": [],
        "id": "195e09b9",
        "outputId": "df0c1d25-954e-44c9-ed6b-be5a31fbfd91",
        "colab": {
          "base_uri": "https://localhost:8080/"
        }
      },
      "outputs": [
        {
          "output_type": "stream",
          "name": "stdout",
          "text": [
            "The accuracy: 0.85\n"
          ]
        }
      ],
      "source": [
        "# Instantiate lr\n",
        "lr = LogisticRegression(C=100)\n",
        "\n",
        "# Instantiate knn\n",
        "knn = KNeighborsClassifier(n_neighbors=29)\n",
        "\n",
        "# Instantiate dt\n",
        "dt = DecisionTreeClassifier(max_depth=3)\n",
        "\n",
        "#Intd svc\n",
        "svc = SVC(C=30, gamma=0.1)\n",
        "\n",
        "# List of Classifiers\n",
        "classifiers = [('Logistic Regression', lr), ('K Nearest Neighbours', knn), ('Classification Tree', dt), ('SVC', svc)]\n",
        "\n",
        "# Instantiate a VotingClassifier\n",
        "vc = VotingClassifier(estimators=classifiers)\n",
        "# Fit vc to the training set\n",
        "vc.fit(X_train, y_train)   \n",
        "\n",
        "y_pred = vc.predict(X_val)\n",
        "\n",
        "# Calculate accuracy\n",
        "accuracy = accuracy_score(y_val, y_pred)\n",
        "model_accuracy['Voting Classifier'] = accuracy\n",
        "print('The accuracy: {:.2f}'.format(accuracy))"
      ]
    },
    {
      "cell_type": "markdown",
      "id": "6e00b3d3",
      "metadata": {
        "papermill": {
          "duration": 0.023805,
          "end_time": "2022-07-09T20:12:34.179076",
          "exception": false,
          "start_time": "2022-07-09T20:12:34.155271",
          "status": "completed"
        },
        "tags": [],
        "id": "6e00b3d3"
      },
      "source": [
        "## Random Forest Classifier"
      ]
    },
    {
      "cell_type": "code",
      "execution_count": null,
      "id": "59ef1a66",
      "metadata": {
        "execution": {
          "iopub.execute_input": "2022-07-09T20:12:34.215706Z",
          "iopub.status.busy": "2022-07-09T20:12:34.214882Z",
          "iopub.status.idle": "2022-07-09T20:14:04.923137Z",
          "shell.execute_reply": "2022-07-09T20:14:04.921894Z"
        },
        "papermill": {
          "duration": 90.744834,
          "end_time": "2022-07-09T20:14:04.941425",
          "exception": false,
          "start_time": "2022-07-09T20:12:34.196591",
          "status": "completed"
        },
        "tags": [],
        "id": "59ef1a66",
        "outputId": "84d8fc26-22bc-4c25-a0d9-66802397f2e8",
        "colab": {
          "base_uri": "https://localhost:8080/"
        }
      },
      "outputs": [
        {
          "output_type": "stream",
          "name": "stdout",
          "text": [
            "The best accuracy: 0.8156424581005587 when {'max_features': 'log2', 'min_samples_leaf': 2, 'n_estimators': 500}\n"
          ]
        }
      ],
      "source": [
        "# Instantiate the RandomForestClassifier\n",
        "rf = RandomForestClassifier()\n",
        "\n",
        "# Showing the parameters and initiliazing the GridSearch5-FoldCv:\n",
        "params_rf = {'n_estimators':[100,200,300,400,500],\n",
        "            'max_features':['log2','auto','sqrt'],\n",
        "            'min_samples_leaf':[1,2,4,16,32,64]}\n",
        "\n",
        "grid_rf = GridSearchCV(estimator=rf,\n",
        "                       param_grid=params_rf,\n",
        "                       cv=5,\n",
        "                       n_jobs=-1)\n",
        "\n",
        "grid_rf.fit(X_train, y_train)\n",
        "\n",
        "best_acc = grid_rf.score(X_val, y_val)\n",
        "\n",
        "#Adding the best score to the final dict\n",
        "model_accuracy['Random Forest Classifier'] = grid_rf.score(X_val, y_val)\n",
        "\n",
        "# Reporting the best values:\n",
        "print(\"The best accuracy: {} when {}\".format(best_acc,grid_rf.best_params_))"
      ]
    },
    {
      "cell_type": "markdown",
      "id": "215279b3",
      "metadata": {
        "papermill": {
          "duration": 0.015905,
          "end_time": "2022-07-09T20:14:04.973719",
          "exception": false,
          "start_time": "2022-07-09T20:14:04.957814",
          "status": "completed"
        },
        "tags": [],
        "id": "215279b3"
      },
      "source": [
        "## <a id=\"anchor-name5\">Bagging Classifier:</a>"
      ]
    },
    {
      "cell_type": "code",
      "execution_count": null,
      "id": "bff9b19e",
      "metadata": {
        "execution": {
          "iopub.execute_input": "2022-07-09T20:14:05.008837Z",
          "iopub.status.busy": "2022-07-09T20:14:05.008065Z",
          "iopub.status.idle": "2022-07-09T20:14:05.078457Z",
          "shell.execute_reply": "2022-07-09T20:14:05.077095Z"
        },
        "papermill": {
          "duration": 0.090492,
          "end_time": "2022-07-09T20:14:05.080604",
          "exception": false,
          "start_time": "2022-07-09T20:14:04.990112",
          "status": "completed"
        },
        "tags": [],
        "id": "bff9b19e",
        "outputId": "db319727-e014-4680-ba6b-3a66ce1b50a7",
        "colab": {
          "base_uri": "https://localhost:8080/"
        }
      },
      "outputs": [
        {
          "output_type": "stream",
          "name": "stdout",
          "text": [
            "Val set accuracy: 0.8212290502793296\n"
          ]
        }
      ],
      "source": [
        "# Instantiate DecisionTreeClassifier\n",
        "dt = DecisionTreeClassifier(random_state=1,max_depth=3)\n",
        "\n",
        "# Instantiate BaggingClassifier\n",
        "bc = BaggingClassifier(base_estimator=dt, n_estimators=30, random_state=1)\n",
        "\n",
        "# Fitting\n",
        "bc.fit(X_train, y_train)\n",
        "\n",
        "# Predicting\n",
        "y_pred = bc.predict(X_val)\n",
        "\n",
        "# Evaluate acc_val\n",
        "acc_val = accuracy_score(y_val, y_pred)\n",
        "model_accuracy['Bagging Classifier'] = acc_val\n",
        "print('Val set accuracy: {}'.format(acc_val)) "
      ]
    },
    {
      "cell_type": "markdown",
      "id": "545a2bad",
      "metadata": {
        "papermill": {
          "duration": 0.016431,
          "end_time": "2022-07-09T20:14:05.113216",
          "exception": false,
          "start_time": "2022-07-09T20:14:05.096785",
          "status": "completed"
        },
        "tags": [],
        "id": "545a2bad"
      },
      "source": [
        "## <a id=\"anchor-name5\">AdaBoost Classifier:</a>"
      ]
    },
    {
      "cell_type": "code",
      "execution_count": null,
      "id": "d7972d51",
      "metadata": {
        "execution": {
          "iopub.execute_input": "2022-07-09T20:14:05.148070Z",
          "iopub.status.busy": "2022-07-09T20:14:05.147650Z",
          "iopub.status.idle": "2022-07-09T20:14:05.196674Z",
          "shell.execute_reply": "2022-07-09T20:14:05.195092Z"
        },
        "papermill": {
          "duration": 0.06967,
          "end_time": "2022-07-09T20:14:05.199328",
          "exception": false,
          "start_time": "2022-07-09T20:14:05.129658",
          "status": "completed"
        },
        "tags": [],
        "id": "d7972d51",
        "outputId": "92b407e5-8afc-49eb-e88d-ea7a8c7f9cea",
        "colab": {
          "base_uri": "https://localhost:8080/"
        }
      },
      "outputs": [
        {
          "output_type": "stream",
          "name": "stdout",
          "text": [
            "Val set accuracy: 0.8156424581005587\n"
          ]
        }
      ],
      "source": [
        "# Instantiate DecisionTreeClassifier\n",
        "dt = DecisionTreeClassifier(max_depth=1)\n",
        "\n",
        "# Instantiate AdaBoostClassifier\n",
        "ada = AdaBoostClassifier(base_estimator=dt, n_estimators=20, random_state=42)\n",
        "                      \n",
        "# Fitting\n",
        "ada.fit(X_train, y_train)\n",
        "                         \n",
        "# Predicting\n",
        "y_pred = ada.predict(X_val)\n",
        "\n",
        "# Evaluate acc_val\n",
        "acc_val = accuracy_score(y_val, y_pred)\n",
        "model_accuracy['AdaBoost Classifier'] = acc_val\n",
        "print('Val set accuracy: {}'.format(acc_val)) "
      ]
    },
    {
      "cell_type": "markdown",
      "id": "0db55741",
      "metadata": {
        "papermill": {
          "duration": 0.01637,
          "end_time": "2022-07-09T20:14:05.232326",
          "exception": false,
          "start_time": "2022-07-09T20:14:05.215956",
          "status": "completed"
        },
        "tags": [],
        "id": "0db55741"
      },
      "source": [
        "## XGBoost Classifier"
      ]
    },
    {
      "cell_type": "code",
      "execution_count": null,
      "id": "797b9e75",
      "metadata": {
        "execution": {
          "iopub.execute_input": "2022-07-09T20:14:05.266846Z",
          "iopub.status.busy": "2022-07-09T20:14:05.266198Z",
          "iopub.status.idle": "2022-07-09T20:14:19.675340Z",
          "shell.execute_reply": "2022-07-09T20:14:19.674037Z"
        },
        "papermill": {
          "duration": 14.429679,
          "end_time": "2022-07-09T20:14:19.678167",
          "exception": false,
          "start_time": "2022-07-09T20:14:05.248488",
          "status": "completed"
        },
        "tags": [],
        "id": "797b9e75",
        "outputId": "37af7876-f9da-4511-a5c9-ad062bf03d54",
        "colab": {
          "base_uri": "https://localhost:8080/"
        }
      },
      "outputs": [
        {
          "output_type": "stream",
          "name": "stdout",
          "text": [
            "The best accuracy: 0.8212290502793296 when {'max_depth': 7, 'n_estimators': 30, 'objective': 'binary:logistic'}\n"
          ]
        }
      ],
      "source": [
        "# Showing the parameters and initiliazing the GridSearch5-FoldCv:\n",
        "gb_param_grid = {\n",
        "    'n_estimators': [10,20,30,40],\n",
        "    'max_depth': list(range(7,14)),\n",
        "    'objective':['binary:logistic']\n",
        "}\n",
        "\n",
        "# Instantiating the XGBClassifier\n",
        "gb = xgb.XGBClassifier(seed=123)\n",
        "\n",
        "grid = GridSearchCV(estimator=gb, param_grid=gb_param_grid, cv=5)\n",
        "\n",
        "grid.fit(X_train, y_train)\n",
        "\n",
        "best_acc = grid.score(X_val, y_val)\n",
        "#Adding the best score to the final dict\n",
        "model_accuracy['XGBoost Classifier'] = best_acc\n",
        "\n",
        "# Reporting the best values:\n",
        "print(\"The best accuracy: {} when {}\".format(best_acc,grid.best_params_))"
      ]
    },
    {
      "cell_type": "markdown",
      "id": "4314b379",
      "metadata": {
        "papermill": {
          "duration": 0.016524,
          "end_time": "2022-07-09T20:14:19.711621",
          "exception": false,
          "start_time": "2022-07-09T20:14:19.695097",
          "status": "completed"
        },
        "tags": [],
        "id": "4314b379"
      },
      "source": [
        "<p style=\"font-size:16px;\">Toutes les méthodes d'ensemble ont bien fonctionné. Je pense que certains d'entre eux peuvent encore être améliorés en modifiant les hyperparamètres. Parmi eux, XGBoost a fait du très bon travail.</p>"
      ]
    },
    {
      "cell_type": "markdown",
      "id": "d4103262",
      "metadata": {
        "papermill": {
          "duration": 0.016375,
          "end_time": "2022-07-09T20:14:19.744670",
          "exception": false,
          "start_time": "2022-07-09T20:14:19.728295",
          "status": "completed"
        },
        "tags": [],
        "id": "d4103262"
      },
      "source": [
        "# <a id=\"anchor-name7\">Summary</a>"
      ]
    },
    {
      "cell_type": "markdown",
      "id": "76a92427",
      "metadata": {
        "execution": {
          "iopub.execute_input": "2022-07-09T16:48:57.068389Z",
          "iopub.status.busy": "2022-07-09T16:48:57.067899Z",
          "iopub.status.idle": "2022-07-09T16:48:57.075681Z",
          "shell.execute_reply": "2022-07-09T16:48:57.074316Z",
          "shell.execute_reply.started": "2022-07-09T16:48:57.068356Z"
        },
        "papermill": {
          "duration": 0.016816,
          "end_time": "2022-07-09T20:14:19.778216",
          "exception": false,
          "start_time": "2022-07-09T20:14:19.761400",
          "status": "completed"
        },
        "tags": [],
        "id": "76a92427"
      },
      "source": [
        "<p style=\"font-size:18px;\">Dans ce cahier, nous avons pris l'ensemble de données brutes du Titanic et sommes passés par différentes étapes allant de l'exploration des données à l'évaluation du modèle. Nous avons formé 9 modèles, certains sont assez similaires les uns aux autres, à savoir les algorithmes d'apprentissage d'ensemble. Le meilleur score obtenu était de 85% par LogisticRegression, le suivant est XGBoost avec une précision de 84%.</p>"
      ]
    },
    {
      "cell_type": "code",
      "execution_count": null,
      "id": "87676446",
      "metadata": {
        "execution": {
          "iopub.execute_input": "2022-07-09T20:14:19.815665Z",
          "iopub.status.busy": "2022-07-09T20:14:19.814482Z",
          "iopub.status.idle": "2022-07-09T20:14:20.945394Z",
          "shell.execute_reply": "2022-07-09T20:14:20.944103Z"
        },
        "papermill": {
          "duration": 1.15185,
          "end_time": "2022-07-09T20:14:20.947763",
          "exception": false,
          "start_time": "2022-07-09T20:14:19.795913",
          "status": "completed"
        },
        "tags": [],
        "id": "87676446",
        "outputId": "1efd368b-011f-41d9-9b45-32b22a906457",
        "colab": {
          "base_uri": "https://localhost:8080/",
          "height": 542
        }
      },
      "outputs": [
        {
          "output_type": "display_data",
          "data": {
            "text/html": [
              "<html>\n",
              "<head><meta charset=\"utf-8\" /></head>\n",
              "<body>\n",
              "    <div>            <script src=\"https://cdnjs.cloudflare.com/ajax/libs/mathjax/2.7.5/MathJax.js?config=TeX-AMS-MML_SVG\"></script><script type=\"text/javascript\">if (window.MathJax) {MathJax.Hub.Config({SVG: {font: \"STIX-Web\"}});}</script>                <script type=\"text/javascript\">window.PlotlyConfig = {MathJaxConfig: 'local'};</script>\n",
              "        <script src=\"https://cdn.plot.ly/plotly-2.8.3.min.js\"></script>                <div id=\"e0ce9d6d-0246-48bd-9df6-70f10fe7311e\" class=\"plotly-graph-div\" style=\"height:525px; width:100%;\"></div>            <script type=\"text/javascript\">                                    window.PLOTLYENV=window.PLOTLYENV || {};                                    if (document.getElementById(\"e0ce9d6d-0246-48bd-9df6-70f10fe7311e\")) {                    Plotly.newPlot(                        \"e0ce9d6d-0246-48bd-9df6-70f10fe7311e\",                        [{\"marker\":{\"color\":[0.8268156424581006,0.8491620111731844,0.8044692737430168,0.8324022346368715,0.8491620111731844,0.8156424581005587,0.8212290502793296,0.8156424581005587,0.8212290502793296],\"colorscale\":[[0.0,\"#440154\"],[0.1111111111111111,\"#482878\"],[0.2222222222222222,\"#3e4989\"],[0.3333333333333333,\"#31688e\"],[0.4444444444444444,\"#26828e\"],[0.5555555555555556,\"#1f9e89\"],[0.6666666666666666,\"#35b779\"],[0.7777777777777778,\"#6ece58\"],[0.8888888888888888,\"#b5de2b\"],[1.0,\"#fde725\"]],\"reversescale\":false,\"showscale\":true},\"opacity\":0.5,\"width\":0.5,\"x\":[\"KNN\",\"Logistic Regression\",\"SVC\",\"Decision Tree\",\"Voting Classifier\",\"Random Forest Classifier\",\"Bagging Classifier\",\"AdaBoost Classifier\",\"XGBoost Classifier\"],\"y\":[0.8268156424581006,0.8491620111731844,0.8044692737430168,0.8324022346368715,0.8491620111731844,0.8156424581005587,0.8212290502793296,0.8156424581005587,0.8212290502793296],\"type\":\"bar\"}],                        {\"autosize\":true,\"barmode\":\"stack\",\"template\":{\"data\":{\"barpolar\":[{\"marker\":{\"line\":{\"color\":\"#E5ECF6\",\"width\":0.5},\"pattern\":{\"fillmode\":\"overlay\",\"size\":10,\"solidity\":0.2}},\"type\":\"barpolar\"}],\"bar\":[{\"error_x\":{\"color\":\"#2a3f5f\"},\"error_y\":{\"color\":\"#2a3f5f\"},\"marker\":{\"line\":{\"color\":\"#E5ECF6\",\"width\":0.5},\"pattern\":{\"fillmode\":\"overlay\",\"size\":10,\"solidity\":0.2}},\"type\":\"bar\"}],\"carpet\":[{\"aaxis\":{\"endlinecolor\":\"#2a3f5f\",\"gridcolor\":\"white\",\"linecolor\":\"white\",\"minorgridcolor\":\"white\",\"startlinecolor\":\"#2a3f5f\"},\"baxis\":{\"endlinecolor\":\"#2a3f5f\",\"gridcolor\":\"white\",\"linecolor\":\"white\",\"minorgridcolor\":\"white\",\"startlinecolor\":\"#2a3f5f\"},\"type\":\"carpet\"}],\"choropleth\":[{\"colorbar\":{\"outlinewidth\":0,\"ticks\":\"\"},\"type\":\"choropleth\"}],\"contourcarpet\":[{\"colorbar\":{\"outlinewidth\":0,\"ticks\":\"\"},\"type\":\"contourcarpet\"}],\"contour\":[{\"colorbar\":{\"outlinewidth\":0,\"ticks\":\"\"},\"colorscale\":[[0.0,\"#0d0887\"],[0.1111111111111111,\"#46039f\"],[0.2222222222222222,\"#7201a8\"],[0.3333333333333333,\"#9c179e\"],[0.4444444444444444,\"#bd3786\"],[0.5555555555555556,\"#d8576b\"],[0.6666666666666666,\"#ed7953\"],[0.7777777777777778,\"#fb9f3a\"],[0.8888888888888888,\"#fdca26\"],[1.0,\"#f0f921\"]],\"type\":\"contour\"}],\"heatmapgl\":[{\"colorbar\":{\"outlinewidth\":0,\"ticks\":\"\"},\"colorscale\":[[0.0,\"#0d0887\"],[0.1111111111111111,\"#46039f\"],[0.2222222222222222,\"#7201a8\"],[0.3333333333333333,\"#9c179e\"],[0.4444444444444444,\"#bd3786\"],[0.5555555555555556,\"#d8576b\"],[0.6666666666666666,\"#ed7953\"],[0.7777777777777778,\"#fb9f3a\"],[0.8888888888888888,\"#fdca26\"],[1.0,\"#f0f921\"]],\"type\":\"heatmapgl\"}],\"heatmap\":[{\"colorbar\":{\"outlinewidth\":0,\"ticks\":\"\"},\"colorscale\":[[0.0,\"#0d0887\"],[0.1111111111111111,\"#46039f\"],[0.2222222222222222,\"#7201a8\"],[0.3333333333333333,\"#9c179e\"],[0.4444444444444444,\"#bd3786\"],[0.5555555555555556,\"#d8576b\"],[0.6666666666666666,\"#ed7953\"],[0.7777777777777778,\"#fb9f3a\"],[0.8888888888888888,\"#fdca26\"],[1.0,\"#f0f921\"]],\"type\":\"heatmap\"}],\"histogram2dcontour\":[{\"colorbar\":{\"outlinewidth\":0,\"ticks\":\"\"},\"colorscale\":[[0.0,\"#0d0887\"],[0.1111111111111111,\"#46039f\"],[0.2222222222222222,\"#7201a8\"],[0.3333333333333333,\"#9c179e\"],[0.4444444444444444,\"#bd3786\"],[0.5555555555555556,\"#d8576b\"],[0.6666666666666666,\"#ed7953\"],[0.7777777777777778,\"#fb9f3a\"],[0.8888888888888888,\"#fdca26\"],[1.0,\"#f0f921\"]],\"type\":\"histogram2dcontour\"}],\"histogram2d\":[{\"colorbar\":{\"outlinewidth\":0,\"ticks\":\"\"},\"colorscale\":[[0.0,\"#0d0887\"],[0.1111111111111111,\"#46039f\"],[0.2222222222222222,\"#7201a8\"],[0.3333333333333333,\"#9c179e\"],[0.4444444444444444,\"#bd3786\"],[0.5555555555555556,\"#d8576b\"],[0.6666666666666666,\"#ed7953\"],[0.7777777777777778,\"#fb9f3a\"],[0.8888888888888888,\"#fdca26\"],[1.0,\"#f0f921\"]],\"type\":\"histogram2d\"}],\"histogram\":[{\"marker\":{\"pattern\":{\"fillmode\":\"overlay\",\"size\":10,\"solidity\":0.2}},\"type\":\"histogram\"}],\"mesh3d\":[{\"colorbar\":{\"outlinewidth\":0,\"ticks\":\"\"},\"type\":\"mesh3d\"}],\"parcoords\":[{\"line\":{\"colorbar\":{\"outlinewidth\":0,\"ticks\":\"\"}},\"type\":\"parcoords\"}],\"pie\":[{\"automargin\":true,\"type\":\"pie\"}],\"scatter3d\":[{\"line\":{\"colorbar\":{\"outlinewidth\":0,\"ticks\":\"\"}},\"marker\":{\"colorbar\":{\"outlinewidth\":0,\"ticks\":\"\"}},\"type\":\"scatter3d\"}],\"scattercarpet\":[{\"marker\":{\"colorbar\":{\"outlinewidth\":0,\"ticks\":\"\"}},\"type\":\"scattercarpet\"}],\"scattergeo\":[{\"marker\":{\"colorbar\":{\"outlinewidth\":0,\"ticks\":\"\"}},\"type\":\"scattergeo\"}],\"scattergl\":[{\"marker\":{\"colorbar\":{\"outlinewidth\":0,\"ticks\":\"\"}},\"type\":\"scattergl\"}],\"scattermapbox\":[{\"marker\":{\"colorbar\":{\"outlinewidth\":0,\"ticks\":\"\"}},\"type\":\"scattermapbox\"}],\"scatterpolargl\":[{\"marker\":{\"colorbar\":{\"outlinewidth\":0,\"ticks\":\"\"}},\"type\":\"scatterpolargl\"}],\"scatterpolar\":[{\"marker\":{\"colorbar\":{\"outlinewidth\":0,\"ticks\":\"\"}},\"type\":\"scatterpolar\"}],\"scatter\":[{\"marker\":{\"colorbar\":{\"outlinewidth\":0,\"ticks\":\"\"}},\"type\":\"scatter\"}],\"scatterternary\":[{\"marker\":{\"colorbar\":{\"outlinewidth\":0,\"ticks\":\"\"}},\"type\":\"scatterternary\"}],\"surface\":[{\"colorbar\":{\"outlinewidth\":0,\"ticks\":\"\"},\"colorscale\":[[0.0,\"#0d0887\"],[0.1111111111111111,\"#46039f\"],[0.2222222222222222,\"#7201a8\"],[0.3333333333333333,\"#9c179e\"],[0.4444444444444444,\"#bd3786\"],[0.5555555555555556,\"#d8576b\"],[0.6666666666666666,\"#ed7953\"],[0.7777777777777778,\"#fb9f3a\"],[0.8888888888888888,\"#fdca26\"],[1.0,\"#f0f921\"]],\"type\":\"surface\"}],\"table\":[{\"cells\":{\"fill\":{\"color\":\"#EBF0F8\"},\"line\":{\"color\":\"white\"}},\"header\":{\"fill\":{\"color\":\"#C8D4E3\"},\"line\":{\"color\":\"white\"}},\"type\":\"table\"}]},\"layout\":{\"annotationdefaults\":{\"arrowcolor\":\"#2a3f5f\",\"arrowhead\":0,\"arrowwidth\":1},\"autotypenumbers\":\"strict\",\"coloraxis\":{\"colorbar\":{\"outlinewidth\":0,\"ticks\":\"\"}},\"colorscale\":{\"diverging\":[[0,\"#8e0152\"],[0.1,\"#c51b7d\"],[0.2,\"#de77ae\"],[0.3,\"#f1b6da\"],[0.4,\"#fde0ef\"],[0.5,\"#f7f7f7\"],[0.6,\"#e6f5d0\"],[0.7,\"#b8e186\"],[0.8,\"#7fbc41\"],[0.9,\"#4d9221\"],[1,\"#276419\"]],\"sequential\":[[0.0,\"#0d0887\"],[0.1111111111111111,\"#46039f\"],[0.2222222222222222,\"#7201a8\"],[0.3333333333333333,\"#9c179e\"],[0.4444444444444444,\"#bd3786\"],[0.5555555555555556,\"#d8576b\"],[0.6666666666666666,\"#ed7953\"],[0.7777777777777778,\"#fb9f3a\"],[0.8888888888888888,\"#fdca26\"],[1.0,\"#f0f921\"]],\"sequentialminus\":[[0.0,\"#0d0887\"],[0.1111111111111111,\"#46039f\"],[0.2222222222222222,\"#7201a8\"],[0.3333333333333333,\"#9c179e\"],[0.4444444444444444,\"#bd3786\"],[0.5555555555555556,\"#d8576b\"],[0.6666666666666666,\"#ed7953\"],[0.7777777777777778,\"#fb9f3a\"],[0.8888888888888888,\"#fdca26\"],[1.0,\"#f0f921\"]]},\"colorway\":[\"#636efa\",\"#EF553B\",\"#00cc96\",\"#ab63fa\",\"#FFA15A\",\"#19d3f3\",\"#FF6692\",\"#B6E880\",\"#FF97FF\",\"#FECB52\"],\"font\":{\"color\":\"#2a3f5f\"},\"geo\":{\"bgcolor\":\"white\",\"lakecolor\":\"white\",\"landcolor\":\"#E5ECF6\",\"showlakes\":true,\"showland\":true,\"subunitcolor\":\"white\"},\"hoverlabel\":{\"align\":\"left\"},\"hovermode\":\"closest\",\"mapbox\":{\"style\":\"light\"},\"paper_bgcolor\":\"white\",\"plot_bgcolor\":\"#E5ECF6\",\"polar\":{\"angularaxis\":{\"gridcolor\":\"white\",\"linecolor\":\"white\",\"ticks\":\"\"},\"bgcolor\":\"#E5ECF6\",\"radialaxis\":{\"gridcolor\":\"white\",\"linecolor\":\"white\",\"ticks\":\"\"}},\"scene\":{\"xaxis\":{\"backgroundcolor\":\"#E5ECF6\",\"gridcolor\":\"white\",\"gridwidth\":2,\"linecolor\":\"white\",\"showbackground\":true,\"ticks\":\"\",\"zerolinecolor\":\"white\"},\"yaxis\":{\"backgroundcolor\":\"#E5ECF6\",\"gridcolor\":\"white\",\"gridwidth\":2,\"linecolor\":\"white\",\"showbackground\":true,\"ticks\":\"\",\"zerolinecolor\":\"white\"},\"zaxis\":{\"backgroundcolor\":\"#E5ECF6\",\"gridcolor\":\"white\",\"gridwidth\":2,\"linecolor\":\"white\",\"showbackground\":true,\"ticks\":\"\",\"zerolinecolor\":\"white\"}},\"shapedefaults\":{\"line\":{\"color\":\"#2a3f5f\"}},\"ternary\":{\"aaxis\":{\"gridcolor\":\"white\",\"linecolor\":\"white\",\"ticks\":\"\"},\"baxis\":{\"gridcolor\":\"white\",\"linecolor\":\"white\",\"ticks\":\"\"},\"bgcolor\":\"#E5ECF6\",\"caxis\":{\"gridcolor\":\"white\",\"linecolor\":\"white\",\"ticks\":\"\"}},\"title\":{\"x\":0.05},\"xaxis\":{\"automargin\":true,\"gridcolor\":\"white\",\"linecolor\":\"white\",\"ticks\":\"\",\"title\":{\"standoff\":15},\"zerolinecolor\":\"white\",\"zerolinewidth\":2},\"yaxis\":{\"automargin\":true,\"gridcolor\":\"white\",\"linecolor\":\"white\",\"ticks\":\"\",\"title\":{\"standoff\":15},\"zerolinecolor\":\"white\",\"zerolinewidth\":2}}},\"title\":{\"text\":\"Barplot of Different Classification Algorithms\",\"x\":0.5},\"xaxis\":{\"categoryorder\":\"total descending\"},\"yaxis\":{\"gridwidth\":2,\"ticklen\":5,\"title\":{\"text\":\"Accuracy\"}}},                        {\"responsive\": true}                    ).then(function(){\n",
              "                            \n",
              "var gd = document.getElementById('e0ce9d6d-0246-48bd-9df6-70f10fe7311e');\n",
              "var x = new MutationObserver(function (mutations, observer) {{\n",
              "        var display = window.getComputedStyle(gd).display;\n",
              "        if (!display || display === 'none') {{\n",
              "            console.log([gd, 'removed!']);\n",
              "            Plotly.purge(gd);\n",
              "            observer.disconnect();\n",
              "        }}\n",
              "}});\n",
              "\n",
              "// Listen for the removal of the full notebook cells\n",
              "var notebookContainer = gd.closest('#notebook-container');\n",
              "if (notebookContainer) {{\n",
              "    x.observe(notebookContainer, {childList: true});\n",
              "}}\n",
              "\n",
              "// Listen for the clearing of the current output cell\n",
              "var outputEl = gd.closest('.output');\n",
              "if (outputEl) {{\n",
              "    x.observe(outputEl, {childList: true});\n",
              "}}\n",
              "\n",
              "                        })                };                            </script>        </div>\n",
              "</body>\n",
              "</html>"
            ]
          },
          "metadata": {}
        }
      ],
      "source": [
        "import plotly.graph_objs as go\n",
        "import plotly.offline as py\n",
        "y = list(model_accuracy.values())\n",
        "x = list(model_accuracy.keys())\n",
        "data = [go.Bar(\n",
        "            x= x,\n",
        "            y= y,\n",
        "            width = 0.5,\n",
        "            marker=dict(\n",
        "            color = list(model_accuracy.values()),\n",
        "            colorscale='viridis',\n",
        "            showscale=True,\n",
        "            reversescale = False\n",
        "            ),\n",
        "            opacity=0.5\n",
        "        )]\n",
        "\n",
        "layout= go.Layout(\n",
        "    autosize= True,\n",
        "    title= 'Barplot of Different Classification Algorithms',\n",
        "    yaxis=dict(\n",
        "        title= 'Accuracy',\n",
        "        ticklen= 5,\n",
        "        gridwidth= 2\n",
        "    )\n",
        ")\n",
        "fig = go.Figure(data=data, layout=layout)\n",
        "fig.update_layout(barmode='stack', xaxis={'categoryorder':'total descending'},title_x=0.5)\n",
        "py.iplot(fig, filename='bar-acc')"
      ]
    },
    {
      "cell_type": "code",
      "execution_count": null,
      "id": "0d6c1066",
      "metadata": {
        "execution": {
          "iopub.execute_input": "2022-07-09T20:14:20.984039Z",
          "iopub.status.busy": "2022-07-09T20:14:20.983380Z",
          "iopub.status.idle": "2022-07-09T20:14:21.004604Z",
          "shell.execute_reply": "2022-07-09T20:14:21.003747Z"
        },
        "papermill": {
          "duration": 0.04213,
          "end_time": "2022-07-09T20:14:21.007041",
          "exception": false,
          "start_time": "2022-07-09T20:14:20.964911",
          "status": "completed"
        },
        "tags": [],
        "id": "0d6c1066"
      },
      "outputs": [],
      "source": [
        "# Final submission\n",
        "predictions = grid.predict(test_df)\n",
        "Submission = pd.DataFrame({ 'PassengerId': passenger_id,\n",
        "                            'Survived': predictions })\n",
        "Submission.to_csv(\"FinalSubmission.csv\", index=False)"
      ]
    },
    {
      "cell_type": "code",
      "source": [
        ""
      ],
      "metadata": {
        "id": "pbKlzdNb71md"
      },
      "id": "pbKlzdNb71md",
      "execution_count": null,
      "outputs": []
    }
  ],
  "metadata": {
    "kernelspec": {
      "display_name": "Python 3",
      "language": "python",
      "name": "python3"
    },
    "language_info": {
      "codemirror_mode": {
        "name": "ipython",
        "version": 3
      },
      "file_extension": ".py",
      "mimetype": "text/x-python",
      "name": "python",
      "nbconvert_exporter": "python",
      "pygments_lexer": "ipython3",
      "version": "3.7.12"
    },
    "papermill": {
      "default_parameters": {},
      "duration": 130.068462,
      "end_time": "2022-07-09T20:14:23.645639",
      "environment_variables": {},
      "exception": null,
      "input_path": "__notebook__.ipynb",
      "output_path": "__notebook__.ipynb",
      "parameters": {},
      "start_time": "2022-07-09T20:12:13.577177",
      "version": "2.3.4"
    },
    "colab": {
      "name": "ML with Python on titanic dataset.ipynb",
      "provenance": [],
      "include_colab_link": true
    }
  },
  "nbformat": 4,
  "nbformat_minor": 5
}